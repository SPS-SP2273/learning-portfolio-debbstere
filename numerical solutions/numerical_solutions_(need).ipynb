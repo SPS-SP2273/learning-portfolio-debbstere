{
 "cells": [
  {
   "cell_type": "markdown",
   "id": "123456",
   "metadata": {},
   "source": [
    "<div style=\"text-align:left;font-size:2em\"><span style=\"font-weight:bolder;font-size:1.25em\">SP2273 | Learning Portfolio</span><br><br><span style=\"font-weight:bold;color:darkred\">Numerical Solutions (Need)</span></div>"
   ]
  },
  {
   "cell_type": "markdown",
   "id": "e2077d00",
   "metadata": {},
   "source": [
    "## 1 A Bucket of water"
   ]
  },
  {
   "cell_type": "markdown",
   "id": "4e1f9907",
   "metadata": {},
   "source": [
    "### 1.1 Getting a feel"
   ]
  },
  {
   "cell_type": "code",
   "execution_count": null,
   "id": "4a296900",
   "metadata": {},
   "outputs": [],
   "source": [
    "from matplotlib import pyplot as plt\n",
    "\n",
    "max_time = 5                     # Maximum time (mins)\n",
    "dt = .5                          # Time step (mins)\n",
    "rate = 5                         # Rate (L/min)\n",
    "all_volume = []                  # To keep track of all volumes\n",
    "volume = 0                       # Starting volume\n",
    "\n",
    "all_time = np.arange(start=0, stop=max_time, step=dt)\n",
    "\n",
    "for time in all_time:\n",
    "    all_volume.append(volume)    # Record volume\n",
    "    dV = rate * dt               # Calculate change in volume\n",
    "    volume += dV                 # Update the new volume\n",
    "\n",
    "# Because we can...\n",
    "plt.plot(all_time, all_volume)\n",
    "plt.ylabel('Volume(L)')\n",
    "plt.xlabel('Time(mins)')\n",
    "plt.show()"
   ]
  },
  {
   "cell_type": "markdown",
   "id": "f10c2d09",
   "metadata": {},
   "source": [
    "### 1.2 An overflowing bucket"
   ]
  },
  {
   "cell_type": "code",
   "execution_count": null,
   "id": "ba331446",
   "metadata": {},
   "outputs": [],
   "source": [
    "max_time = 5                     # Maximum time (mins)\n",
    "dt = .5                          # Time step (mins)\n",
    "rate = 5                         # Rate (L/min)\n",
    "bucket_capacity = 9              # L\n",
    "all_volume = []                  # To keep track of all volumes\n",
    "volume = 0                       # Starting volume\n",
    "\n",
    "all_time = np.arange(start=0, stop=max_time, step=dt)\n",
    "\n",
    "for time in all_time:\n",
    "    all_volume.append(volume)\n",
    "    dV = rate * dt\n",
    "    if volume <= bucket_capacity:\n",
    "        volume += dV             # Update the new volume\n",
    "\n",
    "plt.plot(all_time, all_volume)\n",
    "plt.ylabel('Volume(L)')\n",
    "plt.xlabel('Time(mins)')\n",
    "plt.hlines(bucket_capacity, 0, max_time, colors='grey', ls='dashed')\n",
    "plt.show()"
   ]
  },
  {
   "cell_type": "code",
   "execution_count": null,
   "id": "7c550b23",
   "metadata": {},
   "outputs": [],
   "source": [
    "max_time = 5                     # Maximum time (mins)\n",
    "dt = .5                          # Time step (mins)\n",
    "rate = 5                         # Rate (L/min)\n",
    "bucket_capacity = 9              # L\n",
    "\n",
    "for dt in [0.5, 0.1, 0.05, 0.01, 0.001]:\n",
    "    all_volume = []                  # To keep track of all volumes\n",
    "    volume = 0                       # Starting volume\n",
    "\n",
    "    all_time = np.arange(start=0, stop=max_time, step=dt)\n",
    "\n",
    "    for time in all_time:\n",
    "        all_volume.append(volume)\n",
    "        dV = rate * dt\n",
    "        if volume <= bucket_capacity:\n",
    "            volume += dV\n",
    "\n",
    "    plt.plot(all_time, all_volume, label=f'dt={dt}')\n",
    "\n",
    "plt.ylabel('Volume(L)')\n",
    "plt.xlabel('Time(mins)')\n",
    "plt.hlines(bucket_capacity, 0, max_time, colors='grey', ls='dashed')\n",
    "plt.legend()\n",
    "plt.show()"
   ]
  },
  {
   "cell_type": "markdown",
   "id": "9e453f8d",
   "metadata": {},
   "source": [
    "### 1.3 A leaky bucket"
   ]
  },
  {
   "cell_type": "code",
   "execution_count": null,
   "id": "0da2e962",
   "metadata": {},
   "outputs": [],
   "source": [
    "max_time = 5                     # Maximum time (mins)\n",
    "dt = .001                        # Time step (mins)\n",
    "rate = 5                         # Filling rate (L/min)\n",
    "leak_rate = 1.5                  # L/min\n",
    "bucket_capacity = 9              # L\n",
    "all_volume = []                  # To keep track of all volumes\n",
    "volume = 0                       # Starting volume\n",
    "\n",
    "all_time = np.arange(start=0, stop=max_time, step=dt)\n",
    "\n",
    "for time in all_time:\n",
    "    all_volume.append(volume)\n",
    "\n",
    "    dV = rate * dt\n",
    "    leak_volume = leak_rate * dt\n",
    "    volume -= leak_volume\n",
    "\n",
    "    if volume <= bucket_capacity:\n",
    "        volume += dV             # Update the new volume\n",
    "\n",
    "plt.plot(all_time, all_volume)\n",
    "plt.ylabel('Volume(L)')\n",
    "plt.xlabel('Time(mins)')\n",
    "plt.hlines(bucket_capacity, 0, max_time, colors='grey', ls='dashed')\n",
    "plt.show()"
   ]
  },
  {
   "cell_type": "markdown",
   "id": "29acd60c",
   "metadata": {},
   "source": [
    "### 1.4 Let’s turn off the tap"
   ]
  },
  {
   "cell_type": "code",
   "execution_count": null,
   "id": "bbae6ef0",
   "metadata": {},
   "outputs": [],
   "source": [
    "tap_off_time = 3                 # When the tap goes off\n",
    "max_time = 5                     # Maximum time (mins)\n",
    "dt = .001                        # Time step (mins)\n",
    "rate = 5                         # Filling rate (L/min)\n",
    "leak_rate = 1.5                  # L/min\n",
    "bucket_capacity = 9              # L\n",
    "all_volume = []                  # To keep track of all volumes\n",
    "volume = 0                       # Starting volume\n",
    "\n",
    "all_time = np.arange(start=0, stop=max_time, step=dt)\n",
    "\n",
    "for time in all_time:\n",
    "    all_volume.append(volume)\n",
    "    dV = rate * dt\n",
    "\n",
    "    leak_volume = leak_rate * dt\n",
    "    volume -= leak_volume\n",
    "\n",
    "    if (volume <= bucket_capacity) and (time < tap_off_time):\n",
    "        volume += dV             \n",
    "\n",
    "plt.plot(all_time, all_volume)\n",
    "plt.ylabel('Volume(L)')\n",
    "plt.xlabel('Time(mins)')\n",
    "plt.hlines(bucket_capacity, 0, max_time, colors='grey', ls='dashed')\n",
    "plt.show()"
   ]
  },
  {
   "cell_type": "markdown",
   "id": "9abbd467",
   "metadata": {},
   "source": [
    "### Using while"
   ]
  },
  {
   "cell_type": "code",
   "execution_count": null,
   "id": "8471ae0f",
   "metadata": {},
   "outputs": [],
   "source": [
    "tap_off_time = 3                 # When the tap goes off\n",
    "max_time = 5                     # Maximum time (mins)\n",
    "dt = .001                        # Time step (mins)\n",
    "rate = 5                         # Filling rate (L/min)\n",
    "leak_rate = 1.5                  # L/min\n",
    "bucket_capacity = 9              # L\n",
    "all_volume = []                  # To keep track of all volumes\n",
    "all_time = []                    # To keep track of all times\n",
    "volume = 0                       # Starting volume\n",
    "time = 0\n",
    "\n",
    "while time <= max_time:\n",
    "    all_time.append(time)\n",
    "    all_volume.append(volume)\n",
    "    dV = rate * dt\n",
    "\n",
    "    leak_volume = leak_rate * dt\n",
    "    volume -= leak_volume\n",
    "\n",
    "    if (volume <= bucket_capacity) and (time < tap_off_time):\n",
    "        volume += dV    \n",
    "\n",
    "    time += dt       # Need to remember to increment the counter which affects the while condition after each iteration      \n",
    "\n",
    "plt.plot(all_time, all_volume)\n",
    "plt.ylabel('Volume(L)')\n",
    "plt.xlabel('Time(mins)')\n",
    "plt.hlines(bucket_capacity, 0, max_time, colors='grey', ls='dashed')\n",
    "plt.show()"
   ]
  },
  {
   "cell_type": "markdown",
   "id": "4c72ee62",
   "metadata": {},
   "source": [
    "### 1.5 A quick summary"
   ]
  },
  {
   "cell_type": "markdown",
   "id": "43cdd4e8",
   "metadata": {},
   "source": [
    "The general steps required for using programming to model real-world scenarios are:\n",
    "\n",
    "1. Establish a relationship that connects the changes of the variables\n",
    "2. Pick a starting value\n",
    "3. Take a step, and calculate the changes.\n",
    "4. Update the variables\n",
    "5. Keep on going until you have the desired number of points.\n",
    "6. If you want to improve accuracy, take smaller steps."
   ]
  },
  {
   "cell_type": "markdown",
   "id": "28a1ac8b",
   "metadata": {},
   "source": [
    "### 1.6 We just solved a differential equation!"
   ]
  },
  {
   "cell_type": "markdown",
   "id": "d8657a04",
   "metadata": {},
   "source": [
    "The above problem can be described in a mathematical equation. A differential equation! Where the rate of change of the volume is equals to a constant value."
   ]
  },
  {
   "cell_type": "markdown",
   "id": "3da9bcdd",
   "metadata": {},
   "source": [
    "## 2 Simulating Radioactivity"
   ]
  },
  {
   "cell_type": "markdown",
   "id": "8b6f86ae",
   "metadata": {},
   "source": [
    "### 2.1 Introduction"
   ]
  },
  {
   "cell_type": "markdown",
   "id": "62ca29c6",
   "metadata": {},
   "source": [
    "The decay of radioactive material (i.e. the rate of change of the radioactive nuclei) is equal to the number of radioactive nuclei times the negative value of the decay constant"
   ]
  },
  {
   "cell_type": "markdown",
   "id": "2fee0ac0",
   "metadata": {},
   "source": [
    "### 2.2 Approximating the differential equation"
   ]
  },
  {
   "cell_type": "markdown",
   "id": "ec22591e",
   "metadata": {},
   "source": [
    "Change in the number of radioactive nuclei is equal to the number of radioactive nuclei times the negative value of the decay constant times the change in time."
   ]
  },
  {
   "cell_type": "markdown",
   "id": "781afd39",
   "metadata": {},
   "source": [
    "### 2.3 Getting a feel"
   ]
  },
  {
   "cell_type": "markdown",
   "id": "5c9087be",
   "metadata": {},
   "source": [
    "I think it's alright"
   ]
  },
  {
   "cell_type": "markdown",
   "id": "5a49c307",
   "metadata": {},
   "source": [
    "### 2.4 Let’s write some code"
   ]
  },
  {
   "cell_type": "code",
   "execution_count": 7,
   "id": "b4c91c5d",
   "metadata": {},
   "outputs": [
    {
     "data": {
      "image/png": "[encoded data removed]",
      "text/plain": [
       "<Figure size 640x480 with 1 Axes>"
      ]
     },
     "metadata": {},
     "output_type": "display_data"
    }
   ],
   "source": [
    "decay_constant = 142       # For 85 Rb (per Myr)\n",
    "stop_fraction = 1E-3       # stop when the sample has shrunk to\n",
    "                           # this fraction of the starting value\n",
    "N0 = 1                     # Starting value of N (in billions of atoms)\n",
    "dt = .001\n",
    "time, N = 0, N0            # Starting values\n",
    "\n",
    "all_N, all_time = [], []\n",
    "\n",
    "while True:\n",
    "    all_time.append(time)\n",
    "    all_N.append(N)\n",
    "\n",
    "    dN = -decay_constant*N*dt\n",
    "    N += dN\n",
    "\n",
    "    if N < N0*stop_fraction:\n",
    "        break\n",
    "\n",
    "    time += dt\n",
    "\n",
    "\n",
    "plt.plot(all_time, all_N)\n",
    "plt.ylabel('$N$')\n",
    "plt.xlabel('Time(Millions of years)')\n",
    "plt.show()"
   ]
  },
  {
   "cell_type": "markdown",
   "id": "db020013",
   "metadata": {},
   "source": [
    "### 2.5 Some things to note about the code"
   ]
  },
  {
   "cell_type": "markdown",
   "id": "eef593c7",
   "metadata": {},
   "source": [
    "Using a while loop allows us to continue the loop constantly until we decide it is time to stop. In this case, we define the stop point as the stop fraction which is when the number of radioactive nuclei is reduced to a negligible amount."
   ]
  },
  {
   "cell_type": "markdown",
   "id": "43d29e9f",
   "metadata": {},
   "source": [
    "### 2.6 A quick summary"
   ]
  },
  {
   "cell_type": "markdown",
   "id": "8263d8f8",
   "metadata": {},
   "source": [
    "Again, the method of modelling radioactive decay follows the same process:\n",
    "\n",
    "1. Establish a relationship that connects the changes of the variables\n",
    "2. Pick a starting value\n",
    "3. Take a step, and calculate the changes.\n",
    "4. Update the variables\n",
    "5. Keep on going until you have the desired number of points.\n",
    "6. If you want to improve accuracy, take smaller steps."
   ]
  },
  {
   "cell_type": "markdown",
   "id": "7b76b911",
   "metadata": {},
   "source": [
    "## Exercise 1 :  A more realistic leak"
   ]
  },
  {
   "cell_type": "code",
   "execution_count": 6,
   "id": "5cdbe0b3",
   "metadata": {},
   "outputs": [
    {
     "data": {
      "image/png": "[encoded data removed]",
      "text/plain": [
       "<Figure size 640x480 with 1 Axes>"
      ]
     },
     "metadata": {},
     "output_type": "display_data"
    }
   ],
   "source": [
    "tap_off_time = 3                 # When the tap goes off\n",
    "max_time = 5                     # Maximum time (mins)\n",
    "dt = .001                        # Time step (mins)\n",
    "rate = 5                         # Filling rate (L/min)\n",
    "\n",
    "# leak_rate = ((2*9.8*h)**1/2)                 # L/min\n",
    "bucket_capacity = 9              # L\n",
    "all_volume = []                  # To keep track of all volumes\n",
    "all_time = []                    # To keep track of all times\n",
    "volume = 0                       # Starting volume\n",
    "time = 0\n",
    "\n",
    "def leak_rate(volume):\n",
    "    volume_in_m3 = volume/1000\n",
    "    base_of_bucket = 0.07           # base of bucket in m2\n",
    "    h = volume_in_m3/base_of_bucket        # height of the water in m\n",
    "    speed_of_water_ms = (2*9.8*h)**(1/2)  # in m/s\n",
    "    \n",
    "    area_of_leak = 1/10000         # area of leak in m2\n",
    "    return (speed_of_water_ms * area_of_leak)*60000    # leak rate in L/min (converted from m3/s in the brackets)\n",
    "\n",
    "while time <= max_time:\n",
    "    all_time.append(time)\n",
    "    all_volume.append(volume)\n",
    "    dV = rate * dt\n",
    "\n",
    "    leak_volume = leak_rate(volume) * dt\n",
    "    volume -= leak_volume\n",
    "    \n",
    "    if (volume <= bucket_capacity) and (time < tap_off_time):\n",
    "        volume += dV  \n",
    "    if volume < 0:\n",
    "        volume = 0\n",
    "\n",
    "    time += dt             \n",
    "\n",
    "plt.plot(all_time, all_volume)\n",
    "plt.ylim([0, 2.5])\n",
    "plt.xlim([0, 4])\n",
    "plt.ylabel('Volume(L)')\n",
    "plt.xlabel('Time(mins)')\n",
    "plt.hlines(bucket_capacity, 0, max_time, colors='grey', ls='dashed')\n",
    "plt.show()"
   ]
  }
 ],
 "metadata": {
  "kernelspec": {
   "display_name": "Python 3 (ipykernel)",
   "language": "python",
   "name": "python3"
  },
  "language_info": {
   "codemirror_mode": {
    "name": "ipython",
    "version": 3
   },
   "file_extension": ".py",
   "mimetype": "text/x-python",
   "name": "python",
   "nbconvert_exporter": "python",
   "pygments_lexer": "ipython3",
   "version": "3.9.13"
  },
  "toc": {
   "base_numbering": 1,
   "nav_menu": {},
   "number_sections": true,
   "sideBar": true,
   "skip_h1_title": false,
   "title_cell": "Table of Contents",
   "title_sidebar": "Contents",
   "toc_cell": false,
   "toc_position": {},
   "toc_section_display": true,
   "toc_window_display": false
  },
  "varInspector": {
   "cols": {
    "lenName": 16,
    "lenType": 16,
    "lenVar": 40
   },
   "kernels_config": {
    "python": {
     "delete_cmd_postfix": "",
     "delete_cmd_prefix": "del ",
     "library": "var_list.py",
     "varRefreshCmd": "print(var_dic_list())"
    },
    "r": {
     "delete_cmd_postfix": ") ",
     "delete_cmd_prefix": "rm(",
     "library": "var_list.r",
     "varRefreshCmd": "cat(var_dic_list()) "
    }
   },
   "types_to_exclude": [
    "module",
    "function",
    "builtin_function_or_method",
    "instance",
    "_Feature"
   ],
   "window_display": false
  },
  "vscode": {
   "interpreter": {
    "hash": "31f2aee4e71d21fbe5cf8b01ff0e069b9275f58929596ceb00d14d90e3e16cd6"
   }
  }
 },
 "nbformat": 4,
 "nbformat_minor": 5
}
