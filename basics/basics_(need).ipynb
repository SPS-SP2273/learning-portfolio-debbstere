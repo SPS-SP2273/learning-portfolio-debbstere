{
 "cells": [
  {
   "cell_type": "markdown",
   "id": "123456",
   "metadata": {},
   "source": [
    "<div style=\"text-align:left;font-size:2em\"><span style=\"font-weight:bolder;font-size:1.25em\">SP2273 | Learning Portfolio</span><br><br><span style=\"font-weight:bold;color:darkred\">Basics (Need)</span></div>"
   ]
  },
  {
   "cell_type": "markdown",
   "id": "19f5c5c4",
   "metadata": {},
   "source": [
    "## 1 Some Python Basics"
   ]
  },
  {
   "cell_type": "markdown",
   "id": "53f042a2",
   "metadata": {},
   "source": [
    "### 1.1 Functions"
   ]
  },
  {
   "cell_type": "code",
   "execution_count": 6,
   "id": "29817a11",
   "metadata": {},
   "outputs": [
    {
     "name": "stdout",
     "output_type": "stream",
     "text": [
      "Hello World!\n"
     ]
    },
    {
     "data": {
      "text/plain": [
       "'Hello World!'"
      ]
     },
     "execution_count": 6,
     "metadata": {},
     "output_type": "execute_result"
    }
   ],
   "source": [
    "print('Hello World!')\n",
    "\n",
    "'Hello World!'\n",
    "\n",
    "# print() is a function. A function is a thing that executes a specific task according to its, well, function.\n",
    "# We are able to define our own functions using def()."
   ]
  },
  {
   "cell_type": "markdown",
   "id": "7c51414b",
   "metadata": {},
   "source": [
    "### 1.2 Python is interpreted"
   ]
  },
  {
   "cell_type": "code",
   "execution_count": 8,
   "id": "ae9ef0a7",
   "metadata": {},
   "outputs": [
    {
     "name": "stdout",
     "output_type": "stream",
     "text": [
      "Hello World\n",
      "Hello World again\n",
      "Hmm is this the last line?\n"
     ]
    },
    {
     "data": {
      "text/plain": [
       "'This is the actual last line tho'"
      ]
     },
     "execution_count": 8,
     "metadata": {},
     "output_type": "execute_result"
    }
   ],
   "source": [
    "print('Hello World')\n",
    "print('Hello World again')\n",
    "\"Hello world\"\n",
    "print(\"Hmm is this the last line?\")\n",
    "\"This is the actual last line tho\"\n",
    "\n",
    "# jupyter has a feature where it prints the last line in the block of code despite not using a print() function"
   ]
  },
  {
   "cell_type": "markdown",
   "id": "d4b7bc61",
   "metadata": {},
   "source": [
    "### 1.3 Python is sensitive."
   ]
  },
  {
   "cell_type": "code",
   "execution_count": 13,
   "id": "851b0b8e",
   "metadata": {},
   "outputs": [
    {
     "name": "stdout",
     "output_type": "stream",
     "text": [
      "this works\n"
     ]
    },
    {
     "ename": "NameError",
     "evalue": "name 'Print' is not defined",
     "output_type": "error",
     "traceback": [
      "\u001b[1;31m---------------------------------------------------------------------------\u001b[0m",
      "\u001b[1;31mNameError\u001b[0m                                 Traceback (most recent call last)",
      "\u001b[1;32m~\\AppData\\Local\\Temp\\ipykernel_10020\\426991791.py\u001b[0m in \u001b[0;36m<module>\u001b[1;34m\u001b[0m\n\u001b[0;32m      1\u001b[0m \u001b[0mprint\u001b[0m\u001b[1;33m(\u001b[0m\u001b[1;34m\"this works\"\u001b[0m\u001b[1;33m)\u001b[0m\u001b[1;33m\u001b[0m\u001b[1;33m\u001b[0m\u001b[0m\n\u001b[1;32m----> 2\u001b[1;33m \u001b[0mPrint\u001b[0m\u001b[1;33m(\u001b[0m\u001b[1;34m\"but this does not\"\u001b[0m\u001b[1;33m)\u001b[0m\u001b[1;33m\u001b[0m\u001b[1;33m\u001b[0m\u001b[0m\n\u001b[0m\u001b[0;32m      3\u001b[0m \u001b[1;33m\u001b[0m\u001b[0m\n\u001b[0;32m      4\u001b[0m \u001b[1;31m# be wary of the spelling, capitalisation and punctuation of functions and other commands in python. be ocd\u001b[0m\u001b[1;33m\u001b[0m\u001b[1;33m\u001b[0m\u001b[0m\n",
      "\u001b[1;31mNameError\u001b[0m: name 'Print' is not defined"
     ]
    }
   ],
   "source": [
    "print(\"this works\")\n",
    "Print(\"but this does not\")\n",
    "\n",
    "# be wary of the spelling, capitalisation and punctuation of functions and other commands in python. be ocd"
   ]
  },
  {
   "cell_type": "markdown",
   "id": "fa831ec5",
   "metadata": {},
   "source": [
    "### 1.4 Comments"
   ]
  },
  {
   "cell_type": "code",
   "execution_count": 14,
   "id": "31d456c8",
   "metadata": {},
   "outputs": [
    {
     "name": "stdout",
     "output_type": "stream",
     "text": [
      "6\n"
     ]
    }
   ],
   "source": [
    "# yep i have been using comments previously\n",
    "\n",
    "x = 3 # x is now equal to 3\n",
    "y = x*2 # now i make life hard for humans by layering variables\n",
    "\n",
    "print(y)\n",
    "\n",
    "# soo truuuuuue"
   ]
  },
  {
   "cell_type": "markdown",
   "id": "25f5a456",
   "metadata": {},
   "source": [
    "### 1.5 = is not the same as =="
   ]
  },
  {
   "cell_type": "code",
   "execution_count": 17,
   "id": "f6ee84cc",
   "metadata": {},
   "outputs": [
    {
     "data": {
      "text/plain": [
       "True"
      ]
     },
     "execution_count": 17,
     "metadata": {},
     "output_type": "execute_result"
    }
   ],
   "source": [
    "number_of_students_taking_cs1010s = 2000\n",
    "deaths_per_year_in_singapore = 2000\n",
    "\n",
    "deaths_per_year_in_singapore == number_of_students_taking_cs1010s\n",
    "\n",
    "# single = assigns a value to a variable, double == becomes a comparison operator which holds either a True or False value"
   ]
  },
  {
   "cell_type": "markdown",
   "id": "596b4693",
   "metadata": {},
   "source": [
    "### 1.6 Use if to make decisions"
   ]
  },
  {
   "cell_type": "code",
   "execution_count": 26,
   "id": "e7dc9a80",
   "metadata": {},
   "outputs": [
    {
     "name": "stdout",
     "output_type": "stream",
     "text": [
      "Number of burgers eaten = 3\n",
      "Inject subject with increased doses of leptin.\n"
     ]
    }
   ],
   "source": [
    "no_of_burgers_eaten = int(input(\"Number of burgers eaten = \"))\n",
    "\n",
    "if no_of_burgers_eaten > 20:\n",
    "    print(\"Subject has been satiated.\")\n",
    "elif no_of_burgers_eaten < 5:\n",
    "    print(\"Inject subject with increased doses of leptin.\")\n",
    "else:\n",
    "    print(\"Subject is at an annoyingly healthy level of bodily function.\")"
   ]
  },
  {
   "cell_type": "markdown",
   "id": "0c265703",
   "metadata": {},
   "source": [
    "### 1.7 Indentations (spaces) are sooo IMPORTANT!"
   ]
  },
  {
   "cell_type": "markdown",
   "id": "08d167c4",
   "metadata": {},
   "source": [
    "Make sure to pay attention to indents in every line of code. A block of code with the same number of indents and no breaks (as in no other lines of code with different numbers of indents) are part of the same set of commands. And yes, I do use the `tab` key for indents, God help whoever clicks space 4 times."
   ]
  },
  {
   "cell_type": "markdown",
   "id": "474b6f6a",
   "metadata": {},
   "source": [
    "### 1.8 ‘age’ is English, age is a variable."
   ]
  },
  {
   "cell_type": "code",
   "execution_count": 31,
   "id": "98f96405",
   "metadata": {},
   "outputs": [
    {
     "name": "stdout",
     "output_type": "stream",
     "text": [
      "age\n",
      "873\n",
      "age 873\n"
     ]
    }
   ],
   "source": [
    "age = 873\n",
    "print(\"age\")\n",
    "print(age)\n",
    "\n",
    "age = 873\n",
    "print(\"age\", age)"
   ]
  },
  {
   "cell_type": "markdown",
   "id": "bfa0e57b",
   "metadata": {},
   "source": [
    "### 1.9 Escape sequences"
   ]
  },
  {
   "cell_type": "markdown",
   "id": "90d463a9",
   "metadata": {},
   "source": [
    "i don't think this was part of the SP2273 website content\n",
    "\n",
    "![](data:image/jpeg;base64,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)\n",
    "\n",
    "Ok but I think I know what escape sequences are. Essentially, they are characters that make use of a backslash in front of it for python to ignore its original function.\n",
    "\n",
    "Eg.:\n",
    "```python\n",
    "print('OwO What's This?')\n",
    "\n",
    "# ^ will not work because python thinks the apostrophe after \"What\" ends the string. Thus, we use a backslash to tell python to ignore the function of the apostrophe. Just like this:\n",
    "\n",
    "print('OwO What\\'s This?')\n",
    "```"
   ]
  },
  {
   "cell_type": "code",
   "execution_count": 6,
   "id": "d05d1b42",
   "metadata": {},
   "outputs": [
    {
     "name": "stdout",
     "output_type": "stream",
     "text": [
      "Marriage is a con\n",
      "tract. Between two adults of\n",
      "different families\n"
     ]
    }
   ],
   "source": [
    "print(\"Marriage is a con\\ntract. Between two adults of\\ndifferent families\")\n",
    "\n",
    "# It's a Haiku. And a fact. It works on two levels."
   ]
  },
  {
   "cell_type": "markdown",
   "id": "ac02db41",
   "metadata": {},
   "source": [
    "### 1.10 Brackets"
   ]
  },
  {
   "cell_type": "markdown",
   "id": "439ed864",
   "metadata": {},
   "source": [
    "**Parentheses `()` are used to**\n",
    "1. call functions\n",
    "\n",
    "`print(), int(), str()` etc.\n",
    "\n",
    "2. carry out arithmetic functions\n",
    "\n",
    "```python\n",
    "x = 2 * (4 + 5)\n",
    "```\n",
    "<br>\n",
    "\n",
    "**Square brackets `[]` are used to**\n",
    "1. create lists\n",
    "\n",
    "```python\n",
    "cakes = [\"carrot\", \"strawberry\", \"chocolate\", \"cheese\"]\n",
    "```\n",
    "\n",
    "2. call indexes of a previously defined value or a key of a previously defined dictionary\n",
    "\n",
    "```python\n",
    "name = \"Capitano\"\n",
    "print(name[0])\n",
    "```\n",
    "\n",
    "    ^ will print 'C'\n",
    "\n",
    "You can create 2D lists using double square brackets\n",
    "\n",
    "```python\n",
    "py_list_2 = [[1, \"A\"],\n",
    "             [2, \"B\"],\n",
    "             [3, \"C\"],\n",
    "             [4, \"D\"],\n",
    "             [5, \"E\"]]\n",
    "```\n",
    "\n",
    "<br>\n",
    "\n",
    "**Curly braces `{}` are used to**\n",
    "1. create dictionaries\n",
    "\n",
    "```python\n",
    "university_modules = {\n",
    "    \"CHS\": \"HSS1000\",\n",
    "    \"GE\": \"DTK1234\",\n",
    "    \"LS\": \"LSM2105\",\n",
    "    \"SPS\": \"SP2273\"\n",
    "}\n",
    "print(university_modules[\"GE\"])\n",
    "```\n",
    "\n",
    "    ^ will print DTK1234\n",
    "\n",
    "2. format strings\n",
    "\n",
    "```python\n",
    "name = 234.7\n",
    "print(f\"Hello {name}!\")\n",
    "```\n",
    "\n",
    "    ^ will print: Hello 234.7!"
   ]
  },
  {
   "cell_type": "markdown",
   "id": "72798a69",
   "metadata": {},
   "source": [
    "## 2 Giving Python superpowers"
   ]
  },
  {
   "cell_type": "markdown",
   "id": "f9385e88",
   "metadata": {},
   "source": [
    "### 2.1 Packages"
   ]
  },
  {
   "cell_type": "code",
   "execution_count": 74,
   "id": "16f2ce43",
   "metadata": {},
   "outputs": [
    {
     "name": "stdout",
     "output_type": "stream",
     "text": [
      "2.0\n"
     ]
    },
    {
     "data": {
      "text/plain": [
       "3.0"
      ]
     },
     "execution_count": 74,
     "metadata": {},
     "output_type": "execute_result"
    }
   ],
   "source": [
    "import math as mafs\n",
    "\n",
    "print(mt.sqrt(4))\n",
    "mafs.sqrt(9)\n",
    "\n",
    "# math is automatically shorthanded as 'mt' in jupyter so you can always use mt. to run math functions or you can use \n",
    "# whatever new shorthand you want to import math as. Jupyter will only output the last line unless you use the print()\n",
    "# function."
   ]
  },
  {
   "cell_type": "code",
   "execution_count": 79,
   "id": "b84ef74b",
   "metadata": {},
   "outputs": [
    {
     "name": "stdout",
     "output_type": "stream",
     "text": [
      "2.0\n"
     ]
    },
    {
     "data": {
      "text/plain": [
       "array([2., 3., 4.])"
      ]
     },
     "execution_count": 79,
     "metadata": {},
     "output_type": "execute_result"
    }
   ],
   "source": [
    "import numpy\n",
    "\n",
    "print(np.sqrt(4))\n",
    "\n",
    "# numpy is also automatically shorthanded as 'np' in jupyter\n",
    "\n",
    "np.sqrt([4, 9, 16])\n",
    "\n",
    "# numpy's sqrt() function is able to handle a list of numbers. REMEMBER to use square brackets to denote an array."
   ]
  },
  {
   "cell_type": "code",
   "execution_count": 85,
   "id": "a1b6ca57",
   "metadata": {},
   "outputs": [
    {
     "data": {
      "text/plain": [
       "array([2.23606798, 1.73205081, 8.94427191, 4.58257569])"
      ]
     },
     "execution_count": 85,
     "metadata": {},
     "output_type": "execute_result"
    }
   ],
   "source": [
    "np.sqrt([5, 3, 80, 21])\n",
    "\n",
    "# you only have to import each package once in each jupyter notebook."
   ]
  },
  {
   "cell_type": "markdown",
   "id": "af7303f4",
   "metadata": {},
   "source": [
    "### 2.2 The dot (.)"
   ]
  },
  {
   "cell_type": "code",
   "execution_count": 96,
   "id": "329b26e5",
   "metadata": {},
   "outputs": [
    {
     "name": "stdout",
     "output_type": "stream",
     "text": [
      "BANANA MAN\n",
      "['bana', 'na', 'na', 'na']\n"
     ]
    }
   ],
   "source": [
    "print(\"banana man\".upper())\n",
    "\n",
    "print(\"bana na na na\".split())\n",
    "\n",
    "# Using a dot denotes that the function \"belongs\" to whatever came before the dot"
   ]
  },
  {
   "cell_type": "markdown",
   "id": "3bc36b8b",
   "metadata": {},
   "source": [
    "## Exercise 1 :  Total recall?"
   ]
  },
  {
   "cell_type": "markdown",
   "id": "dc8eb12b",
   "metadata": {},
   "source": [
    "**Basic Python features I can recall:**\n",
    "\n",
    "- print()\n",
    "- proper use of different brackets\n",
    "- writing comments\n",
    "- importance of correct and precise indentations\n",
    "- escape sequences\n",
    "- importing packages\n",
    "\n",
    "\n",
    "**Correcting basic Python features that I forgot:**\n",
    "\n",
    "- _Interpretation of python_\n",
    "- _Sensitivity of python (in terms of function names as well as comparison operators)_\n",
    "- _If else statements_\n",
    "- _Difference between strings and variables_\n",
    "- _Use of the dot (.)_"
   ]
  },
  {
   "cell_type": "markdown",
   "id": "f5cbe554",
   "metadata": {},
   "source": [
    "## Exercise 2 :  Debug me"
   ]
  },
  {
   "cell_type": "code",
   "execution_count": 113,
   "id": "a8c706ea",
   "metadata": {},
   "outputs": [
    {
     "name": "stdout",
     "output_type": "stream",
     "text": [
      "3 4 5\n"
     ]
    }
   ],
   "source": [
    "import math\n",
    "\n",
    "x, y = 3, 4\n",
    "z = int(mt.sqrt(x**2 + y**2))\n",
    "print(x, y, z)"
   ]
  },
  {
   "cell_type": "markdown",
   "id": "8790fafa",
   "metadata": {},
   "source": [
    "## Exercise 3 :  In your own words"
   ]
  },
  {
   "cell_type": "markdown",
   "id": "6225f60e",
   "metadata": {},
   "source": [
    "| # | Term | Description |\n",
    "|:-:|:----:|:------------|\n",
    "| 1 | Function | Passes an argument through itself and evaluates the argument based on its prescribed action. |\n",
    "| 2 | Arguments | Parameters that are passed through a function. |\n",
    "| 3 | Comments | Text behind a hash for which Python will ignore when running a code and functions to allow <br> easier understanding and readability of the code for users. |\n",
    "| 4 | Indentations | Spaces before a line of code which function to specify which lines belong to a particular <br> block of code. |\n",
    "| 5 | Packages | A set of modules which have the .py extension and can be imported into another Python <br> program to expand the functionality of your program. |\n",
    "| 6 | `.` | Indicates ownership and allows you to access various properties of an object type. |"
   ]
  },
  {
   "cell_type": "markdown",
   "id": "735774bf",
   "metadata": {},
   "source": [
    "## Exercise 4 :  More than one way to divide"
   ]
  },
  {
   "cell_type": "code",
   "execution_count": 3,
   "id": "f62dca85",
   "metadata": {},
   "outputs": [
    {
     "data": {
      "text/plain": [
       "1"
      ]
     },
     "execution_count": 3,
     "metadata": {},
     "output_type": "execute_result"
    }
   ],
   "source": [
    "5/2   # divides 5 by 2 and gives the answer as a float\n",
    "5//2  # divides 5 by 2 and gives the answer as an integer\n",
    "5%2   # calculates 5 modulo 2 (divides 5 by 2 and gives the remainder)"
   ]
  }
 ],
 "metadata": {
  "kernelspec": {
   "display_name": "Python 3 (ipykernel)",
   "language": "python",
   "name": "python3"
  },
  "language_info": {
   "codemirror_mode": {
    "name": "ipython",
    "version": 3
   },
   "file_extension": ".py",
   "mimetype": "text/x-python",
   "name": "python",
   "nbconvert_exporter": "python",
   "pygments_lexer": "ipython3",
   "version": "3.9.13"
  },
  "toc": {
   "base_numbering": 1,
   "nav_menu": {},
   "number_sections": true,
   "sideBar": true,
   "skip_h1_title": false,
   "title_cell": "Table of Contents",
   "title_sidebar": "Contents",
   "toc_cell": false,
   "toc_position": {},
   "toc_section_display": true,
   "toc_window_display": false
  },
  "varInspector": {
   "cols": {
    "lenName": 16,
    "lenType": 16,
    "lenVar": 40
   },
   "kernels_config": {
    "python": {
     "delete_cmd_postfix": "",
     "delete_cmd_prefix": "del ",
     "library": "var_list.py",
     "varRefreshCmd": "print(var_dic_list())"
    },
    "r": {
     "delete_cmd_postfix": ") ",
     "delete_cmd_prefix": "rm(",
     "library": "var_list.r",
     "varRefreshCmd": "cat(var_dic_list()) "
    }
   },
   "types_to_exclude": [
    "module",
    "function",
    "builtin_function_or_method",
    "instance",
    "_Feature"
   ],
   "window_display": false
  },
  "vscode": {
   "interpreter": {
    "hash": "31f2aee4e71d21fbe5cf8b01ff0e069b9275f58929596ceb00d14d90e3e16cd6"
   }
  }
 },
 "nbformat": 4,
 "nbformat_minor": 5
}
