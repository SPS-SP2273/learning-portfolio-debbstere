{
 "cells": [
  {
   "cell_type": "markdown",
   "id": "123456",
   "metadata": {},
   "source": [
    "<div style=\"text-align:left;font-size:2em\"><span style=\"font-weight:bolder;font-size:1.25em\">SP2273 | Learning Portfolio</span><br><br><span style=\"font-weight:bold;color:darkred\">Basics (Good)</span></div>"
   ]
  },
  {
   "cell_type": "markdown",
   "id": "b8b82349",
   "metadata": {},
   "source": [
    "## 1 More Python Basics"
   ]
  },
  {
   "cell_type": "markdown",
   "id": "28bbf64b",
   "metadata": {},
   "source": [
    "### 1.1 Computers read = from Right to Left!"
   ]
  },
  {
   "cell_type": "code",
   "execution_count": 3,
   "id": "41fa0cfc",
   "metadata": {},
   "outputs": [
    {
     "name": "stdout",
     "output_type": "stream",
     "text": [
      "42\n",
      "10 10\n"
     ]
    }
   ],
   "source": [
    "# You can update variables in Python by doing:\n",
    "\n",
    "y = 40\n",
    "y = y + 2\n",
    "print(y)\n",
    "\n",
    "# This works because computers read an equal sign from right to left, evaluating its value before assigning the value to\n",
    "# the variable.\n",
    "\n",
    "# Python also allows:\n",
    "\n",
    "x = y = 10\n",
    "print(x, y)\n",
    "\n",
    "# So that both variables x and y are now assigned the same value."
   ]
  },
  {
   "cell_type": "markdown",
   "id": "d127a7d4",
   "metadata": {},
   "source": [
    "### 1.2 Shorter and cleaner"
   ]
  },
  {
   "cell_type": "markdown",
   "id": "8be762cb",
   "metadata": {},
   "source": [
    "| Operation | Shorthand | Explanation |\n",
    "|:---------:|:---------:|:-----------:|\n",
    "| Addition |  `+=`  | same as y = y + 2 |\n",
    "| Subtraction |  `-=` | same as y = y - 2 |\n",
    "| Multiplication |  `*=` | same as y = y * 2 |\n",
    "| Division | `/=` | same as y = y / 2 |"
   ]
  },
  {
   "cell_type": "markdown",
   "id": "3bdc490a",
   "metadata": {},
   "source": [
    "### 1.3 Asking questions"
   ]
  },
  {
   "cell_type": "code",
   "execution_count": 2,
   "id": "1fdccefd",
   "metadata": {},
   "outputs": [
    {
     "data": {
      "text/plain": [
       "True"
      ]
     },
     "execution_count": 2,
     "metadata": {},
     "output_type": "execute_result"
    }
   ],
   "source": [
    "fruits = [\"apple\", \"banana\", \"pineapple\", \"jackfruit\"]\n",
    "vegetables = [\"celery\", \"potato\", \"broccoli\", \"kale\"]\n",
    "\n",
    "\"apple\" in fruits\n",
    "\"peach\" in fruits\n",
    "\"peach\" not in fruits\n",
    "(\"apple\" in fruits) and (\"celery\" in vegetables)\n",
    "(\"apple\" in fruits) or (\"celery\" in vegetables)\n",
    "\n",
    "# ^ All these are conditionals and checks whether they are indeed the case as in the lists. They will produce a boolean\n",
    "# True or False value when evaluated by Python"
   ]
  },
  {
   "cell_type": "markdown",
   "id": "39bd2eb6",
   "metadata": {},
   "source": [
    "| Condition | Python symbol |\n",
    "|:---------:|:-------------:|\n",
    "| Equals | == |\n",
    "| Not equals | != |\n",
    "| Less than | < |\n",
    "| More than | > |\n",
    "| Less than or equal to | <= |\n",
    "| More than or equal to | >= |\n",
    "\n",
    "Python can only compare objects that are of similar types. i.e. strings with strings, numbers with numbers"
   ]
  },
  {
   "cell_type": "markdown",
   "id": "e454ed63",
   "metadata": {},
   "source": [
    "### 1.4 There is more to if"
   ]
  },
  {
   "cell_type": "code",
   "execution_count": 3,
   "id": "0008dea1",
   "metadata": {},
   "outputs": [
    {
     "name": "stdout",
     "output_type": "stream",
     "text": [
      "Hello Hero | Batman!\n"
     ]
    }
   ],
   "source": [
    "name = 'Batman'\n",
    "\n",
    "if name == 'Batman':\n",
    "    print('Hello Hero | Batman!')\n",
    "elif name == 'Robin':\n",
    "    print('Hello Sidekick | Robin!')\n",
    "else:\n",
    "    print('Hello World!')\n",
    "\n",
    "# you can use multiple elif statements to have multiple branches of conditionals. these are optional though and you\n",
    "# usually only need if by itself or if and else."
   ]
  },
  {
   "cell_type": "markdown",
   "id": "6f9074e3",
   "metadata": {},
   "source": [
    "### 1.5 Python stores information in different formats or types."
   ]
  },
  {
   "cell_type": "markdown",
   "id": "e6b09c89",
   "metadata": {},
   "source": [
    "There are 4 ways in which Python can store values:\n",
    "\n",
    "1. Strings -- str()\n",
    "2. Integers -- int()\n",
    "3. Floats -- float()\n",
    "4. Complex numbers -- complex()\n",
    "\n",
    "You can force Python to interchange these (to some logical extent) using certain commands. This is known as typecasting. You can also use type() to check for the type of the object."
   ]
  },
  {
   "cell_type": "markdown",
   "id": "3ab20823",
   "metadata": {},
   "source": [
    "### 1.6 Combining English and variables"
   ]
  },
  {
   "cell_type": "code",
   "execution_count": 19,
   "id": "53b0ff41",
   "metadata": {},
   "outputs": [
    {
     "name": "stdout",
     "output_type": "stream",
     "text": [
      "Hello Batman!\n",
      "Hello BATMAN!\n",
      "The value of 10 squared is 100!\n",
      "Bruce Wayne is Batman.\n",
      "        Bruce Wayne is Batman.\n",
      "    Bruce Wayne is Batman.    \n",
      "Bruce Wayne is Batman.        \n",
      "                                                           1                                                            \n",
      "The cube of pi to 6 decimal places is 31.006277\n",
      "The cube of pi to 6 decimal places is 3.100628e+01\n"
     ]
    }
   ],
   "source": [
    "# f-strings or string interpolation\n",
    "\n",
    "# start the string with f\", type in any text you want to be converted to a string, enclose any variables in curly braces\n",
    "# {}, and end the string with \".\n",
    "\n",
    "name = \"Batman\"\n",
    "print(f\"Hello {name}!\")\n",
    "\n",
    "# you can use any method accessible to the object type within each variable enclosed in curly braces in a f-string.\n",
    "\n",
    "name = \"Batman\"\n",
    "print(f\"Hello {name.upper()}!\")\n",
    "\n",
    "x = 10\n",
    "print(f\"The value of {x} squared is {x**2}!\")\n",
    "\n",
    "# you can also use > ^ or < to align your text in the output.\n",
    "\n",
    "text = 'Bruce Wayne is Batman.'\n",
    "print(f'{text}')\n",
    "\n",
    "print(f'{text:>30}')      # A block of 30 characters; aligned right\n",
    "\n",
    "print(f'{text:^30}')      # A block of 30 characters; aligned centre\n",
    "\n",
    "print(f'{text:<30}')      # A block of 30 characters; aligned left\n",
    "\n",
    "# this will also work with other object types (like int, floats, bool)\n",
    "\n",
    "num = True\n",
    "print(f'{num:^120}')\n",
    "\n",
    "# embedding .6f tells Python to print the output in decimal notation\n",
    "\n",
    "print(f'The cube of pi to 6 decimal places is {np.pi**3:.6f}')\n",
    "\n",
    "# embedding .6e tells Python to print the output in scientific notation\n",
    "\n",
    "print(f'The cube of pi to 6 decimal places is {np.pi**3:.6e}')"
   ]
  },
  {
   "cell_type": "markdown",
   "id": "ad82ef9b",
   "metadata": {},
   "source": [
    "**Structure of f-strings**\n",
    "\n",
    "f-string formatting has the structure {X:>0Y.ZW}.\n",
    "\n",
    "<br>\n",
    "W: specifies the type of variable\n",
    "\n",
    "- `f` - float\n",
    "- `d` - integer\n",
    "- `s` - string\n",
    "- `g` - ask python to figure out\n",
    "\n",
    "X: variable to format (can be a number or a string)\n",
    "\n",
    "<br>\n",
    ">: align right\n",
    "<br>\n",
    "<: align left\n",
    "<br>\n",
    "^: align centre\n",
    "\n",
    "Y: total number of characters\n",
    "\n",
    "Z: total number of decimal places\n",
    "\n",
    "0: use 0's to pad the spaces\n",
    "\n",
    "can refer to the website: [Formatting f-strings](https://pyformat.info/)"
   ]
  },
  {
   "cell_type": "code",
   "execution_count": 29,
   "id": "35c1c8c6",
   "metadata": {},
   "outputs": [
    {
     "name": "stdout",
     "output_type": "stream",
     "text": [
      "000000000000Batman000000000000\n"
     ]
    }
   ],
   "source": [
    "name: \"Thomas the Train\"\n",
    "print(f\"{name:^00030}\")"
   ]
  },
  {
   "cell_type": "markdown",
   "id": "20b9db3d",
   "metadata": {},
   "source": [
    "### 1.7 Python can be a prima-donna."
   ]
  },
  {
   "cell_type": "markdown",
   "id": "9e202adc",
   "metadata": {},
   "source": [
    "Read the error messages, especially the ends to understand the issue and debug the code"
   ]
  },
  {
   "cell_type": "markdown",
   "id": "d6ef8a26",
   "metadata": {},
   "source": [
    "## 2 Best Practices for Scientific Computing"
   ]
  },
  {
   "cell_type": "markdown",
   "id": "5af9350f",
   "metadata": {},
   "source": [
    "### 2.1 Some tips"
   ]
  },
  {
   "cell_type": "markdown",
   "id": "2e083637",
   "metadata": {},
   "source": [
    "Put care into the design of your program and only optimise the code after getting it to work.\n",
    "\n",
    "Tips:\n",
    "1. Write programs for people, not computers.\n",
    "1. Optimise software only after it works correctly.\n",
    "1. Document design and purpose, not mechanics.\n",
    "1. Collaborate.\n",
    "\n",
    "Start simple to achieve the base purpose of the program first before refining, optimising or adding complexity."
   ]
  },
  {
   "cell_type": "markdown",
   "id": "1f26445b",
   "metadata": {},
   "source": [
    "### 2.2 Getting help."
   ]
  },
  {
   "cell_type": "markdown",
   "id": "f9d38d0a",
   "metadata": {},
   "source": [
    "Use Google as much as possible. Other websites are also very useful (eg. StackOverflow)\n",
    "\n",
    "Within Python itself, you can also use the help() function to receive a description of how to use a particular function as well as the parameters needed for the function."
   ]
  },
  {
   "cell_type": "markdown",
   "id": "8c74a5bd",
   "metadata": {},
   "source": [
    "## Exercise 1 :  Bias for some heroes"
   ]
  },
  {
   "cell_type": "code",
   "execution_count": 41,
   "id": "775f150c",
   "metadata": {},
   "outputs": [
    {
     "name": "stdout",
     "output_type": "stream",
     "text": [
      "Hello BATMAN!\n",
      "Hello BLACK WIDOW!\n",
      "Hello Aqua Man!\n"
     ]
    }
   ],
   "source": [
    "# greet 'Batman' or 'Black Widow' in uppercase and all others in lowercase text.\n",
    "\n",
    "def hello(name):\n",
    "    if name.upper() == \"BATMAN\":\n",
    "        print(\"Hello BATMAN!\")\n",
    "    elif name.upper() == \"BLACK WIDOW\":\n",
    "        print(\"Hello BLACK WIDOW!\")\n",
    "    else:\n",
    "        print(f\"Hello {name}!\")\n",
    "    return\n",
    "\n",
    "hello(\"baTman\")\n",
    "hello(\"blacK widow\")\n",
    "hello(\"Aqua Man\")"
   ]
  },
  {
   "cell_type": "markdown",
   "id": "52140547",
   "metadata": {},
   "source": [
    "## Exercise 2 :  Bias for some heroes, continues"
   ]
  },
  {
   "cell_type": "code",
   "execution_count": 42,
   "id": "9c8afe11",
   "metadata": {},
   "outputs": [],
   "source": [
    "# Oh oops I already did .upper() \n",
    "# We don't need to ensure names of other characters are also properly capitalised right?"
   ]
  },
  {
   "cell_type": "markdown",
   "id": "ad72d7fd",
   "metadata": {},
   "source": [
    "## Exercise 3 :  Look for help to replace"
   ]
  },
  {
   "cell_type": "code",
   "execution_count": 43,
   "id": "1d21ace7",
   "metadata": {},
   "outputs": [
    {
     "name": "stdout",
     "output_type": "stream",
     "text": [
      "The Batman lives in Gotham City\n"
     ]
    }
   ],
   "source": [
    "text = \"The Joker lives in Gotham City\"\n",
    "print(text.replace(\"Joker\", \"Batman\"))"
   ]
  },
  {
   "cell_type": "code",
   "execution_count": null,
   "id": "17a64c46",
   "metadata": {},
   "outputs": [],
   "source": []
  }
 ],
 "metadata": {
  "kernelspec": {
   "display_name": "Python 3 (ipykernel)",
   "language": "python",
   "name": "python3"
  },
  "language_info": {
   "codemirror_mode": {
    "name": "ipython",
    "version": 3
   },
   "file_extension": ".py",
   "mimetype": "text/x-python",
   "name": "python",
   "nbconvert_exporter": "python",
   "pygments_lexer": "ipython3",
   "version": "3.9.13"
  },
  "toc": {
   "base_numbering": 1,
   "nav_menu": {},
   "number_sections": true,
   "sideBar": true,
   "skip_h1_title": false,
   "title_cell": "Table of Contents",
   "title_sidebar": "Contents",
   "toc_cell": false,
   "toc_position": {},
   "toc_section_display": true,
   "toc_window_display": false
  },
  "varInspector": {
   "cols": {
    "lenName": 16,
    "lenType": 16,
    "lenVar": 40
   },
   "kernels_config": {
    "python": {
     "delete_cmd_postfix": "",
     "delete_cmd_prefix": "del ",
     "library": "var_list.py",
     "varRefreshCmd": "print(var_dic_list())"
    },
    "r": {
     "delete_cmd_postfix": ") ",
     "delete_cmd_prefix": "rm(",
     "library": "var_list.r",
     "varRefreshCmd": "cat(var_dic_list()) "
    }
   },
   "types_to_exclude": [
    "module",
    "function",
    "builtin_function_or_method",
    "instance",
    "_Feature"
   ],
   "window_display": false
  },
  "vscode": {
   "interpreter": {
    "hash": "31f2aee4e71d21fbe5cf8b01ff0e069b9275f58929596ceb00d14d90e3e16cd6"
   }
  }
 },
 "nbformat": 4,
 "nbformat_minor": 5
}
