{
 "cells": [
  {
   "cell_type": "markdown",
   "id": "123456",
   "metadata": {},
   "source": [
    "<div style=\"text-align:left;font-size:2em\"><span style=\"font-weight:bolder;font-size:1.25em\">SP2273 | Learning Portfolio</span><br><br><span style=\"font-weight:bold;color:darkred\">Storing Data (Need)</span></div>"
   ]
  },
  {
   "cell_type": "markdown",
   "id": "f96eef9e",
   "metadata": {},
   "source": [
    "## 1 Lists, Arrays & Dictionaries"
   ]
  },
  {
   "cell_type": "markdown",
   "id": "e4f2002f",
   "metadata": {},
   "source": [
    "### 1.1 Let’s compare"
   ]
  },
  {
   "cell_type": "code",
   "execution_count": 3,
   "id": "e88622e7",
   "metadata": {},
   "outputs": [],
   "source": [
    "import numpy as np\n",
    "\n",
    "# there are 3 basic ways to store data:\n",
    "\n",
    "# 1. storing information in a Python list\n",
    "\n",
    "py_super_names = [\"Black Widow\", \"Iron Man\", \"Doctor Strange\"]\n",
    "py_real_names = [\"Natasha Romanoff\", \"Tony Stark\", \"Stephen Strange\"]\n",
    "\n",
    "# 2. storing information in a NumPy array\n",
    "\n",
    "np_super_names = np.array([\"Black Widow\", \"Iron Man\", \"Doctor Strange\"])\n",
    "np_real_names = np.array([\"Natasha Romanoff\", \"Tony Stark\", \"Stephen Strange\"])\n",
    "\n",
    "# 3. storing information in a dictionary\n",
    "\n",
    "superhero_info = {\"Natasha Romanoff\": \"Black Widow\",\n",
    "                  \"Tony Stark\": \"Iron Man\",\n",
    "                  \"Stephen Strange\": \"Doctor Strange\"\n",
    "                  }\n",
    "\n",
    "# while lists and arrays retrive the values using indexes, dictionaries retrieve values using the key it is bound to"
   ]
  },
  {
   "cell_type": "markdown",
   "id": "acbb7048",
   "metadata": {},
   "source": [
    "### 1.2 Accessing data from a list (or array)"
   ]
  },
  {
   "cell_type": "code",
   "execution_count": 4,
   "id": "c378b6b2",
   "metadata": {},
   "outputs": [
    {
     "name": "stdout",
     "output_type": "stream",
     "text": [
      "Natasha Romanoff\n",
      "Black Widow\n",
      "Doctor Strange\n",
      "Doctor Strange\n"
     ]
    }
   ],
   "source": [
    "# accessing items in a (Python) list and a (NumPy) array, you need to use the item's index. Indexes start from 0.\n",
    "\n",
    "print(py_real_names[0])\n",
    "print(py_super_names[0])\n",
    "\n",
    "# we can use reverse indexing to access items from the end of the list. The last index of the list is -1\n",
    "\n",
    "print(py_super_names[2])    # Forward indexing \n",
    "                            # We need to know the size \n",
    "                            # beforehand for this to work.\n",
    "print(py_super_names[-1])   # Reverse indexing"
   ]
  },
  {
   "cell_type": "markdown",
   "id": "458cac68",
   "metadata": {},
   "source": [
    "### 1.3 Accessing data from a dictionary"
   ]
  },
  {
   "cell_type": "code",
   "execution_count": 5,
   "id": "05e01c86",
   "metadata": {},
   "outputs": [
    {
     "name": "stdout",
     "output_type": "stream",
     "text": [
      "Black Widow\n",
      "dict_keys(['Natasha Romanoff', 'Tony Stark', 'Stephen Strange'])\n",
      "dict_values(['Black Widow', 'Iron Man', 'Doctor Strange'])\n"
     ]
    }
   ],
   "source": [
    "# access items in a dictionary by calling its key. the output will be the value the key is tied to\n",
    "\n",
    "print(superhero_info[\"Natasha Romanoff\"])\n",
    "\n",
    "# you can also use _info.keys() and _info.values() to retrive all the keys and values accessible within\n",
    "# each dictionary\n",
    "\n",
    "print(superhero_info.keys())\n",
    "print(superhero_info.values())"
   ]
  },
  {
   "cell_type": "markdown",
   "id": "40b4aa8d",
   "metadata": {},
   "source": [
    "### 1.4 Higher dimensional lists"
   ]
  },
  {
   "cell_type": "code",
   "execution_count": 6,
   "id": "4c9fcf29",
   "metadata": {},
   "outputs": [],
   "source": [
    "py_superhero_info = [['Natasha Romanoff', 'Black Widow'],\n",
    "                     ['Tony Stark', 'Iron Man'],\n",
    "                     ['Stephen Strange', 'Doctor Strange']]\n",
    "\n",
    "# these are 2-dimensional lists/arrays which embed lists within a list, allowing you to store information of different\n",
    "# nature within 1 list instead of using multiple lists"
   ]
  },
  {
   "cell_type": "markdown",
   "id": "62beb39d",
   "metadata": {},
   "source": [
    "## 2 Lists vs. Arrays"
   ]
  },
  {
   "cell_type": "markdown",
   "id": "c1e55562",
   "metadata": {},
   "source": [
    "### 2.1 Size"
   ]
  },
  {
   "cell_type": "code",
   "execution_count": 7,
   "id": "4f8e5d09",
   "metadata": {},
   "outputs": [
    {
     "name": "stdout",
     "output_type": "stream",
     "text": [
      "10\n",
      "10\n",
      "[['1' 'A']\n",
      " ['2' 'B']\n",
      " ['3' 'C']\n",
      " ['4' 'D']\n",
      " ['5' 'E']\n",
      " ['6' 'F']\n",
      " ['7' 'G']\n",
      " ['8' 'H']\n",
      " ['9' 'I']\n",
      " ['10' 'J']]\n",
      "(10, 2)\n",
      "[[['1' 'A']\n",
      "  ['2' 'B']\n",
      "  ['3' 'C']\n",
      "  ['4' 'D']\n",
      "  ['5' 'E']]\n",
      "\n",
      " [['6' 'F']\n",
      "  ['7' 'G']\n",
      "  ['8' 'H']\n",
      "  ['9' 'I']\n",
      "  ['10' 'J']]\n",
      "\n",
      " [['11' 'K']\n",
      "  ['12' 'L']\n",
      "  ['13' 'M']\n",
      "  ['14' 'N']\n",
      "  ['15' 'O']]]\n",
      "(3, 5, 2)\n"
     ]
    }
   ],
   "source": [
    "py_list_2d = [[1, \"A\"], [2, \"B\"], [3, \"C\"], [4, \"D\"],\n",
    "              [5, \"E\"], [6, \"F\"], [7, \"G\"], [8, \"H\"],\n",
    "              [9, \"I\"], [10, \"J\"]]\n",
    "\n",
    "np_array_2d = np.array(py_list_2d)      # Reusing the Python list \n",
    "                                        # to create a NEW\n",
    "                                        # NumPy array\n",
    "\n",
    "# you can figure out the number of items in a list by using len() function\n",
    "\n",
    "print(len(py_list_2d))\n",
    "print(len(np_array_2d))\n",
    "\n",
    "# note that for 2d lists, the len() function will output the length of the highest order/scope of the list and disregard\n",
    "# the other lists embedded within the largest list\n",
    "\n",
    "# you can check the 'level' of an array by appending .shape at the end of the array name. Note that this will only work\n",
    "# for NumPy arrays and not Python lists.\n",
    "\n",
    "'print(py_list_2d.shape)' # will raise an AttritubeError: 'list' object has no attribute 'shape'\n",
    "print(np_array_2d)\n",
    "print(np_array_2d.shape) # the output will be (10, 2). 2 numbers shown means the array has 2 dimensions, the first\n",
    "                         # dimension has 10 elements while the second dimension has 2 elements\n",
    "\n",
    "# now we try to create a 3d array\n",
    "\n",
    "np_array_3d = np.array([[[1, \"A\"], [2, \"B\"], [3, \"C\"], [4, \"D\"], [5, \"E\"]], \n",
    "                        [[6, \"F\"], [7, \"G\"], [8, \"H\"], [9, \"I\"], [10, \"J\"]],\n",
    "                        [[11, \"K\"], [12, \"L\"], [13, \"M\"], [14, \"N\"], [15, \"O\"]]])\n",
    "\n",
    "# printing the 3d array will produce separate blocks of rows and columns denoting the \"height\" of the array\n",
    "\n",
    "print(np_array_3d)\n",
    "print(np_array_3d.shape) # the output will be (3, 5, 2). 3 numbers shown means the array has 3 dimensions, the first\n",
    "                         # has 3 elements, second has 5 elements, and the third has 2 elements\n",
    "\n",
    "# Thus, the numbers in the output of .shape are in order of decreasing hierarchy of the dimensions\n",
    "\n",
    "# using .shape also does not require brackets () since .shape is an attribute of the NumPy array, not a function or method"
   ]
  },
  {
   "cell_type": "markdown",
   "id": "a058e6ac",
   "metadata": {},
   "source": [
    "### 2.2 Arrays are fussy about type"
   ]
  },
  {
   "cell_type": "code",
   "execution_count": 8,
   "id": "b6d3460f",
   "metadata": {},
   "outputs": [
    {
     "data": {
      "text/plain": [
       "array(['1', '1.5', 'A'], dtype='<U32')"
      ]
     },
     "execution_count": 8,
     "metadata": {},
     "output_type": "execute_result"
    }
   ],
   "source": [
    "# NumPy arrays like to have only one object type in each array whereas Python lists are more accommodating and can host\n",
    "# various object types within a list\n",
    "\n",
    "py_list = [1, 1.5, 'A']\n",
    "np.array(py_list) # will convert all objects to a str to accommodate for the str which cannot be converted to a number\n",
    "\n",
    "#> array(['1', '1.5', 'A'], dtype='<U32') <-- dtype='<U32' refers to the byte order and type of object in the array\n",
    "\n",
    "# Thus, when dealing with arrays, we must be mindful of the object types and use functions such as astypes() to typecast\n",
    "# according to our needs"
   ]
  },
  {
   "cell_type": "markdown",
   "id": "e49d9908",
   "metadata": {},
   "source": [
    "Refer to this website for information about the Data Type Objects of NumPy\n",
    "\n",
    "[dtype in NumPy](https://numpy.org/doc/stable/reference/arrays.dtypes.html)"
   ]
  },
  {
   "cell_type": "markdown",
   "id": "85d2ac63",
   "metadata": {},
   "source": [
    "### 2.3 Adding a number"
   ]
  },
  {
   "cell_type": "code",
   "execution_count": 9,
   "id": "83bc8c20",
   "metadata": {},
   "outputs": [
    {
     "name": "stdout",
     "output_type": "stream",
     "text": [
      "[1, 2, 3, 4, 5]\n",
      "[3 4 5 6 7]\n"
     ]
    }
   ],
   "source": [
    "py_list = [1, 2, 3, 4, 5]\n",
    "np_array = np.array(py_list)         # Reusing the Python list\n",
    "                                     # to create a NEW\n",
    "                                     # NumPy array\n",
    "\n",
    "# If we want to add a constant value to all the items in the list\n",
    "        \n",
    "'py_list + 10'        # Won't work!\n",
    "np_array + 10         # will add 10 to each item in the list\n",
    "\n",
    "# you can also replace the values in np_array using:\n",
    "\n",
    "np_array += 2\n",
    "\n",
    "print(py_list)\n",
    "print(np_array)"
   ]
  },
  {
   "cell_type": "markdown",
   "id": "de02d763",
   "metadata": {},
   "source": [
    "### 2.4 Adding another list"
   ]
  },
  {
   "cell_type": "code",
   "execution_count": 10,
   "id": "ab95b0ae",
   "metadata": {},
   "outputs": [
    {
     "name": "stdout",
     "output_type": "stream",
     "text": [
      "[1, 2, 3, 4, 5, 10, 20, 30, 40, 50]\n",
      "[11 22 33 44 55]\n",
      "[ 10  40  90 160 250]\n",
      "[0.1 0.1 0.1 0.1 0.1]\n"
     ]
    }
   ],
   "source": [
    "py_list_1 = [1, 2, 3, 4, 5]\n",
    "py_list_2 = [10, 20, 30, 40, 50]\n",
    "\n",
    "np_array_1 = np.array(py_list_1)\n",
    "np_array_2 = np.array(py_list_2)\n",
    "\n",
    "print(py_list_1 + py_list_2)\n",
    "print(np_array_1 + np_array_2)\n",
    "print(np_array_1 * np_array_2)\n",
    "print(np_array_1 / np_array_2)\n",
    "\n",
    "# take note that Python lists will concatenate the lists together, forming a longer list while NumPy will apply the \n",
    "# arithmetic operation to the array (that is if the array consist of numbers) and produce another array with the same\n",
    "# number of items but altered according to the calculation"
   ]
  },
  {
   "cell_type": "markdown",
   "id": "6d8add28",
   "metadata": {},
   "source": [
    "### 2.5 Multiplying by a Number"
   ]
  },
  {
   "cell_type": "code",
   "execution_count": 11,
   "id": "12f29427",
   "metadata": {},
   "outputs": [
    {
     "name": "stdout",
     "output_type": "stream",
     "text": [
      "[1, 2, 3, 4, 5, 1, 2, 3, 4, 5]\n",
      "[ 2  4  6  8 10]\n"
     ]
    }
   ],
   "source": [
    "py_list = [1, 2, 3, 4, 5]\n",
    "np_array = np.array(py_list)\n",
    "\n",
    "print(py_list*2)\n",
    "print(np_array*2)\n",
    "\n",
    "# when using multiplication on lists, Python will repeat the list the number of times it is multiplied by whereas NumPy\n",
    "# arrays will alter each item in the list according to the multiplication factor"
   ]
  },
  {
   "cell_type": "markdown",
   "id": "b4c92b23",
   "metadata": {},
   "source": [
    "### 2.6 Squaring"
   ]
  },
  {
   "cell_type": "code",
   "execution_count": 12,
   "id": "b75f53ef",
   "metadata": {},
   "outputs": [
    {
     "name": "stdout",
     "output_type": "stream",
     "text": [
      "[ 1  4  9 16 25]\n"
     ]
    }
   ],
   "source": [
    "'print(py_list**2)'                      # Won't work!  \n",
    "print(np_array**2)\n",
    "\n",
    "# again, for lists, since it alters the entire list according to the operator, doing list**2 will not work. for arrays,\n",
    "# however, since each element is altered according to the operator, each element in the array will change and produce\n",
    "# a new array with the altered outputs"
   ]
  },
  {
   "cell_type": "markdown",
   "id": "863845cb",
   "metadata": {},
   "source": [
    "### 2.7 Asking questions"
   ]
  },
  {
   "cell_type": "code",
   "execution_count": 15,
   "id": "ee9fc7ef",
   "metadata": {},
   "outputs": [
    {
     "name": "stdout",
     "output_type": "stream",
     "text": [
      "[False False  True False False]\n",
      "[False False False  True  True]\n"
     ]
    }
   ],
   "source": [
    "py_list == 3     # Works, and produces the output 'False'. This is because Python is asking whether the list itself it\n",
    "                 # equivalent to the integer 3, which is false \n",
    "\n",
    "'py_list > 3'    # Won't work because you cannot compare objects of different types using comparison operators\n",
    "                 # other than == which checks for whether each element is equal\n",
    "\n",
    "print(np_array == 3 )\n",
    "print(np_array > 3  )\n",
    "\n",
    "# both of these work because arrays perform each comparison with each of the elements in the list, producing a True or\n",
    "# False output for each item in the array"
   ]
  },
  {
   "cell_type": "code",
   "execution_count": 14,
   "id": "88be8c63",
   "metadata": {},
   "outputs": [
    {
     "name": "stdout",
     "output_type": "stream",
     "text": [
      "True\n",
      "False\n"
     ]
    }
   ],
   "source": [
    "def test(a):\n",
    "    a += 2\n",
    "    return a\n",
    "def test2(a):\n",
    "    a *= 2\n",
    "    return a\n",
    "\n",
    "print(test(2)==test2(2))\n",
    "print(test==test2)\n",
    "\n",
    "# when comparing functions themselves, functions will only equal to another function if its ID is the same, not if their \n",
    "# bodies are the same. However, when comparing the output of the functions, if you get the same result from both\n",
    "# functions, they are considered the same."
   ]
  },
  {
   "cell_type": "markdown",
   "id": "8535f759",
   "metadata": {},
   "source": [
    "### 2.8 Mathematics"
   ]
  },
  {
   "cell_type": "code",
   "execution_count": 8,
   "id": "2d59bd22",
   "metadata": {},
   "outputs": [
    {
     "name": "stdout",
     "output_type": "stream",
     "text": [
      "15\n",
      "5\n",
      "1\n",
      "15\n",
      "5\n",
      "1\n",
      "3.0\n"
     ]
    }
   ],
   "source": [
    "py_list = [1, 2, 3, 4, 5]\n",
    "np_array = np.array(py_list)\n",
    "\n",
    "# Base Python functions which will work on Python lists:\n",
    "\n",
    "print(sum(py_list))     # outputs the sum of all the elements in the list\n",
    "print(max(py_list))     # outputs the element with the maximum value in the list\n",
    "print(min(py_list))     # outputs the element with the minimum value in the list\n",
    "\n",
    "# For arrays, the same commands are not written as a base function on its own, instead they are appended at the end\n",
    "# of the array name.\n",
    "\n",
    "print(np_array.sum())\n",
    "print(np_array.max())\n",
    "print(np_array.min())\n",
    "print(np_array.mean())"
   ]
  },
  {
   "cell_type": "markdown",
   "id": "ce92f905",
   "metadata": {},
   "source": [
    "## Exercise 1 :  Total recall?"
   ]
  },
  {
   "cell_type": "markdown",
   "id": "ace0db8a",
   "metadata": {},
   "source": [
    "1. Two Similarities between Python lists and NumPy arrays\n",
    "    - They both store multiple sets of information which can stored in a multi-dimensional manner.\n",
    "    - They both retrieve information from the list/array using the element's index.\n",
    "    \n",
    "<br>\n",
    "\n",
    "2. Two Differences between Python lists and NumPy arrays\n",
    "    - Python lists stores information as an entirely entity, meaning any alteration made will affect the entire list. This is in contrast to NumPy arrays where each individual element will be evaluated according to the operation placed on it.\n",
    "    - Storing information as a Python list only requires you to enclose the elements in square brackets while NumPy arrays require you to use the function np.array() and place the list enclosed in square brackets within the parentheses of the function\n",
    "\n",
    "<br>\n",
    "\n",
    "3. Definition of a dictionary\n",
    "    - A dictionary is a method of storing information by attaching a value to its key in a key:value pair. These values can then only be retrieved by calling the key attached to it."
   ]
  },
  {
   "cell_type": "markdown",
   "id": "a50854f3",
   "metadata": {},
   "source": [
    "## Exercise 2 :  Index me"
   ]
  },
  {
   "cell_type": "code",
   "execution_count": 29,
   "id": "c62eade8",
   "metadata": {},
   "outputs": [
    {
     "name": "stdout",
     "output_type": "stream",
     "text": [
      "a1\n",
      "c3\n",
      "e5\n",
      "g7\n",
      "i9\n",
      "a1\n",
      "c3\n",
      "e5\n",
      "g7\n",
      "i9\n"
     ]
    }
   ],
   "source": [
    "py_list = [\"a1\", \"b2\", \"c3\", \"d4\", \"e5\", \"f6\", \"g7\", \"h8\", \"i9\", \"j10\"]\n",
    "print(py_list[0])   # Prints 'a1'\n",
    "print(py_list[2])   # Prints 'c3'\n",
    "print(py_list[4])   # Prints 'e5'\n",
    "print(py_list[6])   # Prints 'g7'\n",
    "print(py_list[8])   # Prints 'i9'\n",
    "\n",
    "# attempting to create a program to print the elements with an odd number for me\n",
    "\n",
    "def get_odd_num(list):\n",
    "    index = 0\n",
    "    for i in range(len(list)):\n",
    "        if index == len(list):\n",
    "            break\n",
    "        else:\n",
    "            print(list[index])\n",
    "            index += 2\n",
    "\n",
    "get_odd_num(py_list)\n",
    "\n",
    "# program should work assuming all elements are sorted first"
   ]
  },
  {
   "cell_type": "code",
   "execution_count": 55,
   "id": "e784d853",
   "metadata": {},
   "outputs": [
    {
     "name": "stdout",
     "output_type": "stream",
     "text": [
      "a1\n",
      "c3\n",
      "e5\n",
      "g7\n",
      "i9\n"
     ]
    }
   ],
   "source": [
    "# Changes from Yuan Zhe's comments\n",
    "\n",
    "def get_odd_num(given_list):                    # Variable names should appear in black (at least in Jupyter). if the\n",
    "                                                # variable name turns green (or same colour as other functions), it means\n",
    "                                                # you are using a Python function as a variable name which has a\n",
    "                                                # risk of downgrading from a function to a variable and losing its, well,\n",
    "                                                # function.\n",
    "    for i in range(0, len(given_list), 2):      # Remember that the range() function has a start, stop and step.\n",
    "        print(given_list[i])                    # Since the iteration of the index of the list follows the step value 2\n",
    "                                                # and only outputs the following code every 2 steps, we can just use i as\n",
    "                                                # the index to call.\n",
    "\n",
    "get_odd_num(py_list)"
   ]
  },
  {
   "cell_type": "markdown",
   "id": "93061a55",
   "metadata": {},
   "source": [
    "## Exercise 3 :  Capitalise Heros"
   ]
  },
  {
   "cell_type": "code",
   "execution_count": 32,
   "id": "b77364ae",
   "metadata": {},
   "outputs": [
    {
     "name": "stdout",
     "output_type": "stream",
     "text": [
      "{'Natasha Romanoff': 'BLACK WIDOW', 'Tony Stark': 'IRON MAN', 'Stephen Strange': 'DOCTOR STRANGE'}\n"
     ]
    }
   ],
   "source": [
    "superhero_info = {\"Natasha Romanoff\": \"Black Widow\",\n",
    "                  \"Tony Stark\": \"Iron Man\",\n",
    "                  \"Stephen Strange\": \"Doctor Strange\"\n",
    "                  }\n",
    "\n",
    "superhero_info['Tony Stark'] = superhero_info['Tony Stark'].upper()\n",
    "superhero_info['Natasha Romanoff'] = superhero_info['Natasha Romanoff'].upper()\n",
    "superhero_info['Stephen Strange'] = superhero_info['Stephen Strange'].upper()\n",
    "\n",
    "print(superhero_info)\n",
    "\n",
    "# i don't know how to create a program for this so i just hardcoded it"
   ]
  },
  {
   "cell_type": "markdown",
   "id": "a01a88f9",
   "metadata": {},
   "source": [
    "## Exercise 4 :  How many ones"
   ]
  },
  {
   "cell_type": "code",
   "execution_count": 51,
   "id": "c0d1833c",
   "metadata": {},
   "outputs": [
    {
     "name": "stdout",
     "output_type": "stream",
     "text": [
      "9\n",
      "9\n"
     ]
    }
   ],
   "source": [
    "numbers=[45, 60, 1, 30, 96, 1, 96, 57, 16, 1,\n",
    "        99, 62, 86, 43, 42, 60, 59, 1, 1, 35,\n",
    "        83, 47, 34, 28, 68, 23, 22, 92, 1, 79,\n",
    "        1, 29, 94, 72, 46, 47, 1, 74, 32, 20,\n",
    "        8, 37, 35, 1, 89, 29, 86, 19, 43, 61]\n",
    "\n",
    "# function which makes use of iteration through the elements in the list, checks if the value is equal to the value\n",
    "# in the stipulated in the function parameters, and counts the number of times the aforementioned case is true.\n",
    "\n",
    "def total_count_iter(array, number): \n",
    "    count = 0 \n",
    "    for i in range(len(array)):\n",
    "        if np_numbers[i] == number:\n",
    "            count += 1\n",
    "    return count\n",
    "\n",
    "print(total_count_iter(numbers, 1))\n",
    "\n",
    "# function which makes use of filtering in a NumPy array to create a new array consisting of Boolean True or False values \n",
    "# depending on whether the number in the array matches that which is stipulated in the function parameters. The function\n",
    "# then returns the sum of the numbers in the filtered array. Since True = 1 and False = 0, sum() will automatically\n",
    "# calculate the number of True values in the array.\n",
    "\n",
    "np_numbers = np.array(numbers)\n",
    "\n",
    "def total_count(array, number):\n",
    "    array = array[array == number]\n",
    "    return sum(array)\n",
    "\n",
    "print(total_count(np_numbers, 1))"
   ]
  }
 ],
 "metadata": {
  "kernelspec": {
   "display_name": "Python 3 (ipykernel)",
   "language": "python",
   "name": "python3"
  },
  "language_info": {
   "codemirror_mode": {
    "name": "ipython",
    "version": 3
   },
   "file_extension": ".py",
   "mimetype": "text/x-python",
   "name": "python",
   "nbconvert_exporter": "python",
   "pygments_lexer": "ipython3",
   "version": "3.9.13"
  },
  "toc": {
   "base_numbering": 1,
   "nav_menu": {},
   "number_sections": true,
   "sideBar": true,
   "skip_h1_title": false,
   "title_cell": "Table of Contents",
   "title_sidebar": "Contents",
   "toc_cell": false,
   "toc_position": {},
   "toc_section_display": true,
   "toc_window_display": false
  },
  "varInspector": {
   "cols": {
    "lenName": 16,
    "lenType": 16,
    "lenVar": 40
   },
   "kernels_config": {
    "python": {
     "delete_cmd_postfix": "",
     "delete_cmd_prefix": "del ",
     "library": "var_list.py",
     "varRefreshCmd": "print(var_dic_list())"
    },
    "r": {
     "delete_cmd_postfix": ") ",
     "delete_cmd_prefix": "rm(",
     "library": "var_list.r",
     "varRefreshCmd": "cat(var_dic_list()) "
    }
   },
   "types_to_exclude": [
    "module",
    "function",
    "builtin_function_or_method",
    "instance",
    "_Feature"
   ],
   "window_display": false
  },
  "vscode": {
   "interpreter": {
    "hash": "31f2aee4e71d21fbe5cf8b01ff0e069b9275f58929596ceb00d14d90e3e16cd6"
   }
  }
 },
 "nbformat": 4,
 "nbformat_minor": 5
}
