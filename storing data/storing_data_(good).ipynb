{
 "cells": [
  {
   "cell_type": "markdown",
   "id": "123456",
   "metadata": {},
   "source": [
    "<div style=\"text-align:left;font-size:2em\"><span style=\"font-weight:bolder;font-size:1.25em\">SP2273 | Learning Portfolio</span><br><br><span style=\"font-weight:bold;color:darkred\">Storing Data (Good)</span></div>"
   ]
  },
  {
   "cell_type": "markdown",
   "id": "7959fe46",
   "metadata": {},
   "source": [
    "## 1 Subsetting: Indexing and Slicing"
   ]
  },
  {
   "cell_type": "markdown",
   "id": "ffb70ddf",
   "metadata": {},
   "source": [
    "### 1.1 Indexing & Slicing 1D (Lists & Arrays)"
   ]
  },
  {
   "cell_type": "markdown",
   "id": "639cc444",
   "metadata": {},
   "source": [
    "Subsetting means to select a subset within a list or array. Subsetting can consist of indexing, which means to call the index of an element in a list or array, and slicing, which means to select a range of values within the list or array."
   ]
  },
  {
   "cell_type": "code",
   "execution_count": 13,
   "id": "fbee2f64",
   "metadata": {},
   "outputs": [
    {
     "name": "stdout",
     "output_type": "stream",
     "text": [
      "['j10', 'i9', 'h8', 'g7', 'f6', 'e5', 'd4', 'c3', 'b2']\n",
      "['j10', 'i9', 'h8', 'g7', 'f6', 'e5', 'd4', 'c3', 'b2', 'a1']\n",
      "['j10', 'i9', 'h8', 'g7', 'f6', 'e5', 'd4', 'c3', 'b2', 'a1']\n",
      "['j10', 'h8', 'f6', 'd4', 'b2']\n",
      "['j10' 'i9' 'h8' 'g7' 'f6' 'e5' 'd4' 'c3' 'b2' 'a1']\n"
     ]
    }
   ],
   "source": [
    "py_list=[\"a1\", \"b2\", \"c3\", \"d4\", \"e5\",\n",
    "         \"f6\", \"g7\", \"h8\", \"i9\", \"j10\"]\n",
    "np_array=np.array(py_list)\n",
    "\n",
    "x = py_list\n",
    "y = np_array\n",
    "\n",
    "# when using slicing indexes, the start value is included in the output while the stop value is not. You can also just\n",
    "# leave some of the parameters blank if the parameter can be deduced from other parameters given in the slicing index.\n",
    "\n",
    "print(x[-1:0:-1])                 # Will not include the element with the index 0\n",
    "print(x[-1:-100000000000:-1])     # Giving Python an index that is out of the list will cause Python to just take\n",
    "                                  # the first value which is present in the list\n",
    "print(x[::-1])                    \n",
    "print(x[11::-2])                  # Python starts counting from the first valid/present element\n",
    "\n",
    "print(y[::-1])                    # The same thing can be done with NumPy arrays"
   ]
  },
  {
   "cell_type": "markdown",
   "id": "80739ff9",
   "metadata": {},
   "source": [
    "### 1.2 Subsetting by masking (Arrays only)"
   ]
  },
  {
   "cell_type": "code",
   "execution_count": 23,
   "id": "3c182170",
   "metadata": {},
   "outputs": [
    {
     "name": "stdout",
     "output_type": "stream",
     "text": [
      "[False False False  True  True  True  True  True  True  True]\n",
      "[ 4  5  6  7  8  9 10]\n",
      "[1 2 3]\n",
      "[4 5 6 7]\n",
      "[ 1  2  9 10]\n"
     ]
    }
   ],
   "source": [
    "np_array = np.array([1, 2, 3, 4, 5, 6, 7, 8, 9, 10])\n",
    "my_mask = np_array > 3\n",
    "# This will set True or False values to each element in the array since the array checks each item in the array with the\n",
    "# given value and comparison operator\n",
    "\n",
    "print(my_mask)\n",
    "print(np_array[np_array > 3])   # This is similar to the filtering i did in storing_data_(need) and is different from\n",
    "                                # masking because it filters the array according to the given value and comparison\n",
    "                                # operator.\n",
    "print(np_array[~(np_array > 3)])                         # '~' means 'NOT'\n",
    "print(np_array[(np_array > 3) & (np_array < 8)])         # '&' means 'AND'\n",
    "print(np_array[(np_array < 3) | (np_array > 8)])         # '|' means 'OR'\n",
    "\n",
    "# These are bitwise operators in NumPy. Remember that they should be placed outside of the argument \n",
    "# (array name [comparison operator] [value])"
   ]
  },
  {
   "cell_type": "markdown",
   "id": "77c3e1c4",
   "metadata": {},
   "source": [
    "### 1.3 Indexing & Slicing 2D Lists"
   ]
  },
  {
   "cell_type": "code",
   "execution_count": 30,
   "id": "8bd0c1dd",
   "metadata": {},
   "outputs": [
    {
     "name": "stdout",
     "output_type": "stream",
     "text": [
      "[4, 'D']\n",
      "4\n",
      "[[1, 'A'], [2, 'B'], [3, 'C']]\n",
      "[1, 'A']\n",
      "[4, 'D']\n"
     ]
    }
   ],
   "source": [
    "py_list_2d = [[1, \"A\"], [2, \"B\"], [3, \"C\"], [4, \"D\"],\n",
    "              [5, \"E\"], [6, \"F\"], [7, \"G\"], [8, \"H\"],\n",
    "              [9, \"I\"], [10, \"J\"]]\n",
    "\n",
    "print(py_list_2d[3])        # What is at position 4 (index 3)?\n",
    "print(py_list_2d[3][0])     # FIRST element at position 4 (index 3) \n",
    "print(py_list_2d[:3])       # \n",
    "print(py_list_2d[:3][0])    # Does NOT give the first element of each list in index 0, 1, 2. Instead, it gives the first\n",
    "                            # item in the new list created from slicing consisting of the first 3 elements.\n",
    "print(py_list_2d[3:6][0])   # Will return [4, \"D\"]\n",
    "\n",
    "# When you include a subset after a subset, it will create a new subset based on the previous one."
   ]
  },
  {
   "cell_type": "markdown",
   "id": "0737efe1",
   "metadata": {},
   "source": [
    "### 1.4 Indexing & Slicing 2D Arrays"
   ]
  },
  {
   "cell_type": "code",
   "execution_count": 41,
   "id": "9def9c07",
   "metadata": {},
   "outputs": [
    {
     "name": "stdout",
     "output_type": "stream",
     "text": [
      "['4' 'D']\n",
      "4\n",
      "[['1' 'A']\n",
      " ['2' 'B']\n",
      " ['3' 'C']]\n",
      "['1' '2' '3']\n",
      "['D' 'E' 'F']\n",
      "['1' '2' '3' '4' '5' '6' '7' '8' '9' '10']\n"
     ]
    }
   ],
   "source": [
    "np_array_2d = np.array([[1, \"A\"], [2, \"B\"], [3, \"C\"], [4, \"D\"],\n",
    "                        [5, \"E\"], [6, \"F\"], [7, \"G\"], [8, \"H\"],\n",
    "                        [9, \"I\"], [10, \"J\"]])\n",
    "\n",
    "print(np_array_2d[3])       # What is at position 4 (index 3)? \n",
    "print(np_array_2d[3, 0])    # FIRST element at position 4 (index 3)\n",
    "print(np_array_2d[:3])      # Outputs all elements in the array in index 0, 1 and 2\n",
    "print(np_array_2d[:3, 0])   # First element of each array in index 0, 1 and 2\n",
    "print(np_array_2d[3:6, 1])  # Second element of each array in index 3, 4 and 6\n",
    "print(np_array_2d[:, 0])    # All first elements of all the arrays in the array"
   ]
  },
  {
   "cell_type": "markdown",
   "id": "3582ec6a",
   "metadata": {},
   "source": [
    "### 1.5 Growing lists"
   ]
  },
  {
   "cell_type": "code",
   "execution_count": 3,
   "id": "7fc59688",
   "metadata": {},
   "outputs": [
    {
     "name": "stdout",
     "output_type": "stream",
     "text": [
      "[1, 1, 1, 1, 1, 1, 1, 1, 1, 1]\n",
      "[1, 2, 3, 4]\n",
      "[1, 2, 3, 4]\n",
      "[2, 3, 4, 1]\n",
      "[1, 2, 3, 4]\n",
      "[1]\n"
     ]
    }
   ],
   "source": [
    "x=[1]*10\n",
    "print(x)\n",
    "\n",
    "x=[1]\n",
    "x+= [2]\n",
    "x+= [3]\n",
    "x+= [4]\n",
    "print(x)\n",
    "\n",
    "# appending one digit to the end of the list\n",
    "\n",
    "x=[1]\n",
    "x+= [2, 3, 4]\n",
    "print(x)\n",
    "\n",
    "# appending a bunch of digits to the list\n",
    "\n",
    "x=[1]\n",
    "x= [2, 3, 4] + x\n",
    "print(x)\n",
    "\n",
    "# pre-pending multiple items to the list\n",
    "\n",
    "x=[1]\n",
    "x.append(2)\n",
    "x.append(3)\n",
    "x.append(4)\n",
    "print(x)\n",
    "\n",
    "# .append() allows you to automatically add items to the end of any list\n",
    "\n",
    "x=[1]\n",
    "#x.append(2, 3, 4)        # Won't work. .append() only takes 1 argument\n",
    "print(x)"
   ]
  },
  {
   "cell_type": "markdown",
   "id": "0aeda0bd",
   "metadata": {},
   "source": [
    "## 2 Some loose ends"
   ]
  },
  {
   "cell_type": "markdown",
   "id": "ff60891a",
   "metadata": {},
   "source": [
    "### 2.1 Tuples"
   ]
  },
  {
   "cell_type": "code",
   "execution_count": 24,
   "id": "d78c6868",
   "metadata": {},
   "outputs": [
    {
     "name": "stdout",
     "output_type": "stream",
     "text": [
      "1\n",
      "(1, 2, 3, 4, 5, 6) (4, 5, 6, 1, 2, 3)\n"
     ]
    }
   ],
   "source": [
    "# Tuples make use of parentheses instead of square brackets and is not mutable after being created\n",
    "\n",
    "a=(1, 2, 3)     # Define tuple\n",
    "print(a[0])    # Access data (works in the same way as lists)\n",
    "\n",
    "b = (4, 5 ,6)\n",
    "c = (3)\n",
    "\n",
    "# The following will NOT work\n",
    "# a[0] = -1\n",
    "# a[0] += [10]    # will produce the TypeError: 'tuple' object does not support item assignment\n",
    "\n",
    "# a += [4]        \n",
    "# a += (4)        # TypeError: can only concatenate tuple (not \"list\") to tuple\n",
    "a += b\n",
    "b += (1, 2, 3)\n",
    "# b += c          # TypeError: can only concatenate tuple (not \"list\") to tuple\n",
    "\n",
    "print(a, b)\n",
    "\n",
    "# Python allows you to grow a tuple by adding other tuples to it, but not integers or lists. So you cannot just add 1 \n",
    "# integer by itself or a \"bracketed\" integer thinking it is a tuple lol."
   ]
  },
  {
   "cell_type": "markdown",
   "id": "c53c61c9",
   "metadata": {},
   "source": [
    "### 2.2 Be VERY careful when copying"
   ]
  },
  {
   "cell_type": "code",
   "execution_count": 34,
   "id": "640f94d3",
   "metadata": {},
   "outputs": [
    {
     "name": "stdout",
     "output_type": "stream",
     "text": [
      "[1, 2, 3, 4, 5, 6]\n",
      "[1, 2, 3]\n",
      "[1, 2, 3]\n"
     ]
    }
   ],
   "source": [
    "x=[1, 2, 3]\n",
    "y=x           # DON'T do this!\n",
    "z=x           # DON'T do this!\n",
    "\n",
    "# Apparently is the wrong way to \"copy\" a list because all it does is assigns the same list to the variables y and z.\n",
    "# So whatever changes made to the list assigned to x will also happen to the variables y and z\n",
    "\n",
    "x=[1, 2, 3]\n",
    "y=x.copy()\n",
    "z=x.copy()\n",
    "\n",
    "x+=[4, 5, 6]\n",
    "\n",
    "print(x)\n",
    "print(y)\n",
    "print(z)\n",
    "\n",
    "# You can use .copy() to safely copy over a list to another variable.\n",
    "\n",
    "tup = (9, 8, 7)\n",
    "# tup_copy = tup.copy()        # Will raise AttributeError: 'tuple' object has no attribute 'copy'\n",
    "\n",
    "# The .copy() method is only specific to lists."
   ]
  },
  {
   "cell_type": "markdown",
   "id": "ef5b098c",
   "metadata": {},
   "source": [
    "## Exercise 1 :  Total recall?"
   ]
  },
  {
   "cell_type": "markdown",
   "id": "87df8678",
   "metadata": {},
   "source": [
    "**Subsetting**: Creating a subset of an object (whether string, list, integer, etc)\n",
    "\n",
    "**Indexing**: Calling a single item in an object using its index (whether a character in a string or integer, an item in a list, etc) \n",
    "\n",
    "**Slicing**: Calling a part of the object by defining a start, stop and step index of the object (step parameter is optional) \n",
    "\n",
    "**Masking**: Assigning True or False values to items in a NumPy array to \"mask\" the items in the array according to a specified condition"
   ]
  },
  {
   "cell_type": "markdown",
   "id": "5bb3e9ca",
   "metadata": {},
   "source": [
    "## Exercise 2 :  Show me the ‘odd’ letters"
   ]
  },
  {
   "cell_type": "code",
   "execution_count": 65,
   "id": "5b1733f7",
   "metadata": {},
   "outputs": [
    {
     "name": "stdout",
     "output_type": "stream",
     "text": [
      "[ True  True False False  True  True False False False  True]\n",
      "['A' 'C' 'E' 'G' 'I']\n"
     ]
    }
   ],
   "source": [
    "np_array_2d = np.array([[1, \"A\"], [3, \"C\"], [2, \"B\"], [4, \"D\"],\n",
    "                        [5, \"E\"], [7, \"G\"], [6, \"F\"], [8, \"H\"],\n",
    "                        [10, \"J\"], [9, \"I\"]])\n",
    "\n",
    "numbers = np_array_2d[:, 0]   # Creates a new list containing the first item of each array in the lowest dimension\n",
    "np_array_2d_int = numbers.astype(int)   # Converts the items in the new list into integers\n",
    "is_odd = np_array_2d_int % 2 == 1\n",
    "print(is_odd)\n",
    "print(np_array_2d[is_odd][:, 1])"
   ]
  }
 ],
 "metadata": {
  "kernelspec": {
   "display_name": "Python 3 (ipykernel)",
   "language": "python",
   "name": "python3"
  },
  "language_info": {
   "codemirror_mode": {
    "name": "ipython",
    "version": 3
   },
   "file_extension": ".py",
   "mimetype": "text/x-python",
   "name": "python",
   "nbconvert_exporter": "python",
   "pygments_lexer": "ipython3",
   "version": "3.9.13"
  },
  "toc": {
   "base_numbering": 1,
   "nav_menu": {},
   "number_sections": true,
   "sideBar": true,
   "skip_h1_title": false,
   "title_cell": "Table of Contents",
   "title_sidebar": "Contents",
   "toc_cell": false,
   "toc_position": {},
   "toc_section_display": true,
   "toc_window_display": false
  },
  "varInspector": {
   "cols": {
    "lenName": 16,
    "lenType": 16,
    "lenVar": 40
   },
   "kernels_config": {
    "python": {
     "delete_cmd_postfix": "",
     "delete_cmd_prefix": "del ",
     "library": "var_list.py",
     "varRefreshCmd": "print(var_dic_list())"
    },
    "r": {
     "delete_cmd_postfix": ") ",
     "delete_cmd_prefix": "rm(",
     "library": "var_list.r",
     "varRefreshCmd": "cat(var_dic_list()) "
    }
   },
   "types_to_exclude": [
    "module",
    "function",
    "builtin_function_or_method",
    "instance",
    "_Feature"
   ],
   "window_display": false
  },
  "vscode": {
   "interpreter": {
    "hash": "31f2aee4e71d21fbe5cf8b01ff0e069b9275f58929596ceb00d14d90e3e16cd6"
   }
  }
 },
 "nbformat": 4,
 "nbformat_minor": 5
}
