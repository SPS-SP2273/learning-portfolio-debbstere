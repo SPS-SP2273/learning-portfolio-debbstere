{
 "cells": [
  {
   "cell_type": "markdown",
   "id": "123456",
   "metadata": {},
   "source": [
    "<div style=\"text-align:left;font-size:2em\"><span style=\"font-weight:bolder;font-size:1.25em\">SP2273 | Learning Portfolio</span><br><br><span style=\"font-weight:bold;color:darkred\">Using Jupyter (Need)</span></div>"
   ]
  },
  {
   "cell_type": "markdown",
   "id": "9d87f2e7",
   "metadata": {},
   "source": [
    "## 1 Getting started with Jupyter"
   ]
  },
  {
   "cell_type": "markdown",
   "id": "35fb5ebb",
   "metadata": {},
   "source": [
    "### 1.1 Its all about running cells"
   ]
  },
  {
   "cell_type": "code",
   "execution_count": null,
   "id": "1a338abc",
   "metadata": {},
   "outputs": [],
   "source": []
  },
  {
   "cell_type": "markdown",
   "id": "ec3df8f7",
   "metadata": {},
   "source": [
    "### 1.2 A traditional start"
   ]
  },
  {
   "cell_type": "code",
   "execution_count": 3,
   "id": "6e7e676b",
   "metadata": {},
   "outputs": [
    {
     "name": "stdout",
     "output_type": "stream",
     "text": [
      "Hello World!\n"
     ]
    }
   ],
   "source": [
    "print(\"Hello World!\")"
   ]
  },
  {
   "cell_type": "markdown",
   "id": "6b2f7763",
   "metadata": {},
   "source": [
    "## 2 All about Markdown"
   ]
  },
  {
   "cell_type": "markdown",
   "id": "09f2455c",
   "metadata": {},
   "source": [
    "### 2.1 Rendering Markdown cells"
   ]
  },
  {
   "cell_type": "markdown",
   "id": "ba4d5e60",
   "metadata": {},
   "source": [
    "The ships hung in the sky in much the same way that bricks don’t."
   ]
  },
  {
   "cell_type": "markdown",
   "id": "3f78877d",
   "metadata": {},
   "source": [
    "### 2.2 Some basic syntax"
   ]
  },
  {
   "cell_type": "markdown",
   "id": "f548e2bb",
   "metadata": {},
   "source": [
    "The ships *hung in the sky* in much the same way that **Bricks don't.** <sup>1</sup><sub>quote</sub>"
   ]
  },
  {
   "cell_type": "markdown",
   "id": "840a758b",
   "metadata": {},
   "source": [
    "### 2.3 Headings"
   ]
  },
  {
   "cell_type": "markdown",
   "id": "84a61a9d",
   "metadata": {},
   "source": [
    "# Wu Jin Lu\n",
    "## Topic 1\n",
    "### Pronatalism is the only way\n",
    "#### Scientifically proven using socks"
   ]
  },
  {
   "cell_type": "markdown",
   "id": "c7c02a7f",
   "metadata": {},
   "source": [
    "### 2.4 Displaying Code"
   ]
  },
  {
   "cell_type": "markdown",
   "id": "9a1867ac",
   "metadata": {},
   "source": [
    "``` python\n",
    "print(\"Hello world!\")\n",
    "```"
   ]
  },
  {
   "cell_type": "markdown",
   "id": "4e11619b",
   "metadata": {},
   "source": [
    "### 2.5 Links"
   ]
  },
  {
   "cell_type": "markdown",
   "id": "aad6b63d",
   "metadata": {},
   "source": [
    "[Wu Jin Lu](https://www.refinery29.com/en-gb/what-is-pronatalism)"
   ]
  },
  {
   "cell_type": "markdown",
   "id": "c21f9b7b",
   "metadata": {},
   "source": [
    "### 2.6 Images"
   ]
  },
  {
   "cell_type": "markdown",
   "id": "ac7aefca",
   "metadata": {},
   "source": [
    "![](data:image/jpeg;base64,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)"
   ]
  },
  {
   "cell_type": "markdown",
   "id": "b1ab9c0b",
   "metadata": {},
   "source": [
    "### 2.7 Tables"
   ]
  },
  {
   "cell_type": "markdown",
   "id": "dd6dc5ad",
   "metadata": {},
   "source": [
    "| Y1S1 | Y1S2 | Y2S1 | Y2S2 |\n",
    "| :--- | :--: | :--: | ---: |\n",
    "| CM1417 | SP2273 | LSM2106 | LSM2107 |\n",
    "| SP2271 | LSM2105 | LSM2191 | CS2030 |"
   ]
  },
  {
   "cell_type": "markdown",
   "id": "efee1781",
   "metadata": {},
   "source": [
    "### 2.8 Lists"
   ]
  },
  {
   "cell_type": "markdown",
   "id": "b48264ef",
   "metadata": {},
   "source": [
    "Major evolutionary transitions\n",
    "1. language (wtf?)\n",
    "1. change in the way genetic information is stored and transmitted\n",
    "2. move from unicellularism to multicellularism\n",
    "\n",
    "2. hello\n",
    "3. is this a proper list?\n",
    "2. not sure what these indexes are supposed to mean"
   ]
  },
  {
   "cell_type": "markdown",
   "id": "d6cb3df1",
   "metadata": {},
   "source": [
    "### 2.9 Equations"
   ]
  },
  {
   "cell_type": "markdown",
   "id": "f790e0b9",
   "metadata": {},
   "source": [
    "Todo list in Todoist:\n",
    "1. stuff to do\n",
    "    - grocery shopping in like 2 weeks' time\n",
    "\n",
    "\n",
    "2. other stuff to do\n",
    "    - get Hugh's notes\n",
    "    - get Patrick's notes\n",
    "    - cry abt getting a B+ despite their notes\n",
    "    \n",
    "$$\n",
    "y = 2x + \\dfrac{34x^5}{83}\n",
    "$$\n",
    "\n",
    "\n",
    "$\\delta^+$"
   ]
  },
  {
   "cell_type": "markdown",
   "id": "aa16eef2",
   "metadata": {},
   "source": [
    "## Exercise 1 :  Put it in Markdown"
   ]
  },
  {
   "cell_type": "markdown",
   "id": "7cdc7dbc",
   "metadata": {},
   "source": [
    "### Quadratic Equations\n",
    "![](https://upload.wikimedia.org/wikipedia/commons/thumb/f/f8/Polynomialdeg2.svg/450px-Polynomialdeg2.svg.png)\n",
    "\n",
    "_(Image from the [Wikipedia page on Quadratic Equations](https://en.wikipedia.org/wiki/Quadratic_equation))_\n",
    "\n",
    "### Introduction\n",
    "The general form of a quadratic equation is:\n",
    "$$ax^2 + bx + c = 0$$\n",
    "\n",
    "**Solutions** provided $a \\ne 0$, we can use an elementary algebraic method called [completing the square](https://en.wikipedia.org/wiki/Completing_the_square) to show that a quadratic equation has the following solution: \n",
    "\n",
    "$$ x = \\dfrac {-b \\pm \\sqrt{b^2-4ac}}{2a} $$\n",
    "\n",
    "### Discriminant\n",
    "\n",
    "The quantity $\\Delta = b^2 - 4ac$ is called the **discriminant** of the equation and decides the nature of the solutions. The table below shows the various possibilities.\n",
    "\n",
    "| Discriminant    |  Root   |\n",
    "| --- | --- | \n",
    "|  $$\\Delta = b^2 - 4ac = 0$$  |  A single solution of $-b/(2a)$  |\n",
    "| $$\\Delta = b^2 - 4ac > 0$$   |  Two distinct solutions  |\n",
    "| $$\\Delta = b^2 - 4ac < 0$$   |  No real solutions; both are complex  |"
   ]
  },
  {
   "cell_type": "markdown",
   "id": "a7d62bdb",
   "metadata": {},
   "source": [
    "## Exercise 2 :  In your own words"
   ]
  },
  {
   "cell_type": "markdown",
   "id": "44a6bb7d",
   "metadata": {},
   "source": [
    "1. What is a **repository**? A physical or virtual location where data and files are stored which has the capacity to track changes which are made to it either locally or remotely? Essentially it contains both all of the file's contents as well as any revisions made to the files.\n",
    "2. Git keeps track of the (changes in the address, path, metadata, etc.) in the files in our repostory\n",
    "3. What is a **commit**? An individual change made locally to a file or a set of files.\n",
    "4. What is a **push**? A revision of the changes made to the file or set of files from the locally-stored location to the server.\n",
    "5. What is the difference between **Github** and **Github desktop**? Github is an online website while Github desktop is an application downloaded on the desktop app. Github desktop allows you to sync locally-stored files with your account that is stored virtually on the server.\n",
    "6. Is there an 'opposite' to a **push**? Yes, it is to git pull which is to update changes made to the virtual copy of the repository with its counterpart stored locally on the device.\n"
   ]
  },
  {
   "cell_type": "code",
   "execution_count": null,
   "id": "94893ebf",
   "metadata": {},
   "outputs": [],
   "source": []
  }
 ],
 "metadata": {
  "kernelspec": {
   "display_name": "Python 3 (ipykernel)",
   "language": "python",
   "name": "python3"
  },
  "language_info": {
   "codemirror_mode": {
    "name": "ipython",
    "version": 3
   },
   "file_extension": ".py",
   "mimetype": "text/x-python",
   "name": "python",
   "nbconvert_exporter": "python",
   "pygments_lexer": "ipython3",
   "version": "3.9.13"
  },
  "toc": {
   "base_numbering": 1,
   "nav_menu": {},
   "number_sections": true,
   "sideBar": true,
   "skip_h1_title": false,
   "title_cell": "Table of Contents",
   "title_sidebar": "Contents",
   "toc_cell": false,
   "toc_position": {},
   "toc_section_display": true,
   "toc_window_display": false
  },
  "vscode": {
   "interpreter": {
    "hash": "31f2aee4e71d21fbe5cf8b01ff0e069b9275f58929596ceb00d14d90e3e16cd6"
   }
  }
 },
 "nbformat": 4,
 "nbformat_minor": 5
}
