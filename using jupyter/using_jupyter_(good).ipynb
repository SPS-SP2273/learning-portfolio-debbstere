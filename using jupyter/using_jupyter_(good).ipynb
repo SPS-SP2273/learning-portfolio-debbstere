{
 "cells": [
  {
   "cell_type": "markdown",
   "id": "123456",
   "metadata": {},
   "source": [
    "<div style=\"text-align:left;font-size:2em\"><span style=\"font-weight:bolder;font-size:1.25em\">SP2273 | Learning Portfolio</span><br><br><span style=\"font-weight:bold;color:darkred\">Using Jupyter (Good)</span></div>"
   ]
  },
  {
   "cell_type": "markdown",
   "id": "2b2399a9",
   "metadata": {},
   "source": [
    "## 1 Some tips and tricks"
   ]
  },
  {
   "cell_type": "markdown",
   "id": "504e30c0",
   "metadata": {},
   "source": [
    "### 1.1 Keyboard Shortcuts"
   ]
  },
  {
   "cell_type": "markdown",
   "id": "eefe2e35",
   "metadata": {},
   "source": [
    "Copy, paste, merge cells can be done using esc + c, v, m respectively\n",
    "You can also delete cells using esc + d + d"
   ]
  },
  {
   "cell_type": "markdown",
   "id": "7ad2e050",
   "metadata": {},
   "source": [
    "### 1.2 Shell commands"
   ]
  },
  {
   "cell_type": "code",
   "execution_count": 1,
   "id": "5966e1ff",
   "metadata": {},
   "outputs": [
    {
     "name": "stdout",
     "output_type": "stream",
     "text": [
      "C:\\Users\\debor\\OneDrive\\University_Files\\Modules\\Y1S2\\SP2273\\learning-portfolio-debbstere\\using jupyter\n",
      " Volume in drive C is Local Disk\n",
      " Volume Serial Number is 3ECA-C8D9\n",
      "\n",
      " Directory of C:\\Users\\debor\\OneDrive\\University_Files\\Modules\\Y1S2\\SP2273\\learning-portfolio-debbstere\\using jupyter\n",
      "\n",
      "13/01/2023  11:28 am    <DIR>          .\n",
      "10/01/2023  08:58 am    <DIR>          ..\n",
      "13/01/2023  10:56 am    <DIR>          .ipynb_checkpoints\n",
      "13/01/2023  11:28 am             5,315 using_jupyter_(good).ipynb\n",
      "13/01/2023  10:54 am            16,185 using_jupyter_(need).ipynb\n",
      "               2 File(s)         21,500 bytes\n",
      "               3 Dir(s)  253,387,845,632 bytes free\n"
     ]
    }
   ],
   "source": [
    "!cd\n",
    "!dir"
   ]
  },
  {
   "cell_type": "markdown",
   "id": "fed2cf1e",
   "metadata": {},
   "source": [
    "## 2 Jupyter Extensions"
   ]
  },
  {
   "cell_type": "markdown",
   "id": "b88d9f7f",
   "metadata": {},
   "source": [
    "### 2.1 Installing the extensions"
   ]
  },
  {
   "cell_type": "markdown",
   "id": "837a065d",
   "metadata": {},
   "source": [
    "Successfully installed using Anaconda Prompt"
   ]
  },
  {
   "cell_type": "markdown",
   "id": "7d3f5a8e",
   "metadata": {},
   "source": [
    "### 2.2 Enabling the extensions"
   ]
  },
  {
   "cell_type": "markdown",
   "id": "3ddc8a76",
   "metadata": {},
   "source": [
    "Enabled the 5 extensions stated in the guide"
   ]
  },
  {
   "cell_type": "markdown",
   "id": "4554e71e",
   "metadata": {},
   "source": [
    "## 3 Shell Magic"
   ]
  },
  {
   "cell_type": "code",
   "execution_count": 4,
   "id": "aa3a290b",
   "metadata": {
    "scrolled": false
   },
   "outputs": [
    {
     "name": "stdout",
     "output_type": "stream",
     "text": [
      "78.7 ns ± 7.72 ns per loop (mean ± std. dev. of 7 runs, 10000000 loops each)\n"
     ]
    }
   ],
   "source": [
    "%%timeit\n",
    "x = 10\n",
    "y = 10\n",
    "z = 10"
   ]
  },
  {
   "cell_type": "markdown",
   "id": "4c8ad546",
   "metadata": {},
   "source": [
    "## 4 The Kernel"
   ]
  },
  {
   "cell_type": "markdown",
   "id": "2d293642",
   "metadata": {},
   "source": [
    "Press the kernal button in the toolbar to restart the kernal if things start going wack"
   ]
  },
  {
   "cell_type": "markdown",
   "id": "c167f31e",
   "metadata": {},
   "source": [
    "## Exercise 1 :  A new shortcut"
   ]
  },
  {
   "cell_type": "markdown",
   "id": "65d4b41a",
   "metadata": {},
   "source": [
    "I managed to configure:\n",
    "- 'Restart the kernal and run all cells' to Esc + 9 + 9\n",
    "- 'Clear cell output' to Esc + O _(as in capital letter O)_"
   ]
  }
 ],
 "metadata": {
  "kernelspec": {
   "display_name": "Python 3 (ipykernel)",
   "language": "python",
   "name": "python3"
  },
  "language_info": {
   "codemirror_mode": {
    "name": "ipython",
    "version": 3
   },
   "file_extension": ".py",
   "mimetype": "text/x-python",
   "name": "python",
   "nbconvert_exporter": "python",
   "pygments_lexer": "ipython3",
   "version": "3.9.13"
  },
  "toc": {
   "base_numbering": 1,
   "nav_menu": {},
   "number_sections": true,
   "sideBar": true,
   "skip_h1_title": false,
   "title_cell": "Table of Contents",
   "title_sidebar": "Contents",
   "toc_cell": false,
   "toc_position": {},
   "toc_section_display": true,
   "toc_window_display": false
  },
  "varInspector": {
   "cols": {
    "lenName": 16,
    "lenType": 16,
    "lenVar": 40
   },
   "kernels_config": {
    "python": {
     "delete_cmd_postfix": "",
     "delete_cmd_prefix": "del ",
     "library": "var_list.py",
     "varRefreshCmd": "print(var_dic_list())"
    },
    "r": {
     "delete_cmd_postfix": ") ",
     "delete_cmd_prefix": "rm(",
     "library": "var_list.r",
     "varRefreshCmd": "cat(var_dic_list()) "
    }
   },
   "types_to_exclude": [
    "module",
    "function",
    "builtin_function_or_method",
    "instance",
    "_Feature"
   ],
   "window_display": false
  },
  "vscode": {
   "interpreter": {
    "hash": "31f2aee4e71d21fbe5cf8b01ff0e069b9275f58929596ceb00d14d90e3e16cd6"
   }
  }
 },
 "nbformat": 4,
 "nbformat_minor": 5
}
